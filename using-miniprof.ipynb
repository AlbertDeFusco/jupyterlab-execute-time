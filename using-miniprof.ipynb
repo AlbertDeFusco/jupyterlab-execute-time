{
 "cells": [
  {
   "cell_type": "code",
   "execution_count": 1,
   "metadata": {},
   "outputs": [],
   "source": [
    "import miniprofiler"
   ]
  },
  {
   "cell_type": "code",
   "execution_count": 2,
   "metadata": {},
   "outputs": [
    {
     "data": {
      "text/plain": [
       "55"
      ]
     },
     "execution_count": 2,
     "metadata": {},
     "output_type": "execute_result"
    },
    {
     "data": {
      "application/json": {
       "cpu_time": 0.032524,
       "duration": 4.809754,
       "memory_usage": 1261568,
       "root_frame": {
        "await_time": 0,
        "children": [
         {
          "await_time": 0,
          "children": [
           {
            "await_time": 0,
            "children": [
             {
              "await_time": 0,
              "children": [
               {
                "await_time": 0,
                "children": [
                 {
                  "await_time": 0,
                  "children": [
                   {
                    "await_time": 0,
                    "children": [
                     {
                      "await_time": 0,
                      "children": [
                       {
                        "await_time": 0,
                        "children": [
                         {
                          "await_time": 0,
                          "children": [
                           {
                            "await_time": 0,
                            "children": [
                             {
                              "await_time": 0,
                              "children": [
                               {
                                "await_time": 0,
                                "children": [
                                 {
                                  "await_time": 0,
                                  "children": [
                                   {
                                    "await_time": 0,
                                    "children": [],
                                    "file_path": "<built-in>",
                                    "file_path_short": "<built-in>",
                                    "function": "sleep",
                                    "is_application_code": false,
                                    "line_no": 0,
                                    "time": 1.945191
                                   },
                                   {
                                    "await_time": 0,
                                    "children": [
                                     {
                                      "await_time": 0,
                                      "children": [],
                                      "file_path": "<built-in>",
                                      "file_path_short": "<built-in>",
                                      "function": "sleep",
                                      "is_application_code": false,
                                      "line_no": 0,
                                      "time": 0.813155
                                     },
                                     {
                                      "await_time": 0,
                                      "children": [
                                       {
                                        "await_time": 0,
                                        "children": [],
                                        "file_path": "<built-in>",
                                        "file_path_short": "<built-in>",
                                        "function": "sleep",
                                        "is_application_code": false,
                                        "line_no": 0,
                                        "time": 0.107047
                                       }
                                      ],
                                      "file_path": "/var/folders/nr/rds9xrgx3dq8sp5f1vd4nrxm0000gn/T/ipykernel_6875/27809492.py",
                                      "file_path_short": "../../../../var/folders/nr/rds9xrgx3dq8sp5f1vd4nrxm0000gn/T/ipykernel_6875/27809492.py",
                                      "function": "fib",
                                      "is_application_code": true,
                                      "line_no": 3,
                                      "time": 0.107047
                                     }
                                    ],
                                    "file_path": "/var/folders/nr/rds9xrgx3dq8sp5f1vd4nrxm0000gn/T/ipykernel_6875/27809492.py",
                                    "file_path_short": "../../../../var/folders/nr/rds9xrgx3dq8sp5f1vd4nrxm0000gn/T/ipykernel_6875/27809492.py",
                                    "function": "fib",
                                    "is_application_code": true,
                                    "line_no": 3,
                                    "time": 0.920201
                                   }
                                  ],
                                  "file_path": "/var/folders/nr/rds9xrgx3dq8sp5f1vd4nrxm0000gn/T/ipykernel_6875/27809492.py",
                                  "file_path_short": "../../../../var/folders/nr/rds9xrgx3dq8sp5f1vd4nrxm0000gn/T/ipykernel_6875/27809492.py",
                                  "function": "fib",
                                  "is_application_code": true,
                                  "line_no": 3,
                                  "time": 2.866704
                                 },
                                 {
                                  "await_time": 0,
                                  "children": [],
                                  "file_path": "<built-in>",
                                  "file_path_short": "<built-in>",
                                  "function": "sleep",
                                  "is_application_code": false,
                                  "line_no": 0,
                                  "time": 1.612178
                                 }
                                ],
                                "file_path": "/var/folders/nr/rds9xrgx3dq8sp5f1vd4nrxm0000gn/T/ipykernel_6875/27809492.py",
                                "file_path_short": "../../../../var/folders/nr/rds9xrgx3dq8sp5f1vd4nrxm0000gn/T/ipykernel_6875/27809492.py",
                                "function": "fib",
                                "is_application_code": true,
                                "line_no": 3,
                                "time": 4.478882
                               },
                               {
                                "await_time": 0,
                                "children": [],
                                "file_path": "<built-in>",
                                "file_path_short": "<built-in>",
                                "function": "sleep",
                                "is_application_code": false,
                                "line_no": 0,
                                "time": 0.318201
                               }
                              ],
                              "file_path": "/var/folders/nr/rds9xrgx3dq8sp5f1vd4nrxm0000gn/T/ipykernel_6875/27809492.py",
                              "file_path_short": "../../../../var/folders/nr/rds9xrgx3dq8sp5f1vd4nrxm0000gn/T/ipykernel_6875/27809492.py",
                              "function": "fib",
                              "is_application_code": true,
                              "line_no": 3,
                              "time": 4.797083
                             }
                            ],
                            "file_path": "/var/folders/nr/rds9xrgx3dq8sp5f1vd4nrxm0000gn/T/ipykernel_6875/27809492.py",
                            "file_path_short": "../../../../var/folders/nr/rds9xrgx3dq8sp5f1vd4nrxm0000gn/T/ipykernel_6875/27809492.py",
                            "function": "fib",
                            "is_application_code": true,
                            "line_no": 3,
                            "time": 4.797083
                           }
                          ],
                          "file_path": "/var/folders/nr/rds9xrgx3dq8sp5f1vd4nrxm0000gn/T/ipykernel_6875/27809492.py",
                          "file_path_short": "../../../../var/folders/nr/rds9xrgx3dq8sp5f1vd4nrxm0000gn/T/ipykernel_6875/27809492.py",
                          "function": "fib",
                          "is_application_code": true,
                          "line_no": 3,
                          "time": 4.797083
                         }
                        ],
                        "file_path": "/var/folders/nr/rds9xrgx3dq8sp5f1vd4nrxm0000gn/T/ipykernel_6875/27809492.py",
                        "file_path_short": "../../../../var/folders/nr/rds9xrgx3dq8sp5f1vd4nrxm0000gn/T/ipykernel_6875/27809492.py",
                        "function": "fib",
                        "is_application_code": true,
                        "line_no": 3,
                        "time": 4.797083
                       }
                      ],
                      "file_path": "/var/folders/nr/rds9xrgx3dq8sp5f1vd4nrxm0000gn/T/ipykernel_6875/27809492.py",
                      "file_path_short": "../../../../var/folders/nr/rds9xrgx3dq8sp5f1vd4nrxm0000gn/T/ipykernel_6875/27809492.py",
                      "function": "fib",
                      "is_application_code": true,
                      "line_no": 3,
                      "time": 4.797083
                     }
                    ],
                    "file_path": "/var/folders/nr/rds9xrgx3dq8sp5f1vd4nrxm0000gn/T/ipykernel_6875/27809492.py",
                    "file_path_short": "../../../../var/folders/nr/rds9xrgx3dq8sp5f1vd4nrxm0000gn/T/ipykernel_6875/27809492.py",
                    "function": "fib",
                    "is_application_code": true,
                    "line_no": 3,
                    "time": 4.797083
                   }
                  ],
                  "file_path": "/var/folders/nr/rds9xrgx3dq8sp5f1vd4nrxm0000gn/T/ipykernel_6875/27809492.py",
                  "file_path_short": "../../../../var/folders/nr/rds9xrgx3dq8sp5f1vd4nrxm0000gn/T/ipykernel_6875/27809492.py",
                  "function": "<module>",
                  "is_application_code": true,
                  "line_no": 1,
                  "time": 4.808537
                 }
                ],
                "class_name": "ZMQInteractiveShell",
                "file_path": "/Users/kylekelley/.pyenv/versions/miniconda3-latest/lib/python3.11/site-packages/IPython/core/interactiveshell.py",
                "file_path_short": "IPython/core/interactiveshell.py",
                "function": "run_ast_nodes",
                "group_id": "2761d222-50f6-4883-973e-5dd4f2d31bd7",
                "is_application_code": false,
                "line_no": 3418,
                "time": 4.808537
               }
              ],
              "class_name": "ZMQInteractiveShell",
              "file_path": "/Users/kylekelley/.pyenv/versions/miniconda3-latest/lib/python3.11/site-packages/IPython/core/interactiveshell.py",
              "file_path_short": "IPython/core/interactiveshell.py",
              "function": "run_cell_async",
              "group_id": "2761d222-50f6-4883-973e-5dd4f2d31bd7",
              "is_application_code": false,
              "line_no": 3183,
              "time": 4.808537
             }
            ],
            "file_path": "/Users/kylekelley/.pyenv/versions/miniconda3-latest/lib/python3.11/site-packages/IPython/core/async_helpers.py",
            "file_path_short": "IPython/core/async_helpers.py",
            "function": "_pseudo_sync_runner",
            "group_id": "2761d222-50f6-4883-973e-5dd4f2d31bd7",
            "is_application_code": false,
            "line_no": 120,
            "time": 4.808537
           }
          ],
          "class_name": "ZMQInteractiveShell",
          "file_path": "/Users/kylekelley/.pyenv/versions/miniconda3-latest/lib/python3.11/site-packages/IPython/core/interactiveshell.py",
          "file_path_short": "IPython/core/interactiveshell.py",
          "function": "_run_cell",
          "group_id": "2761d222-50f6-4883-973e-5dd4f2d31bd7",
          "is_application_code": false,
          "line_no": 3084,
          "time": 4.808537
         }
        ],
        "class_name": "ZMQInteractiveShell",
        "file_path": "/Users/kylekelley/.pyenv/versions/miniconda3-latest/lib/python3.11/site-packages/IPython/core/interactiveshell.py",
        "file_path_short": "IPython/core/interactiveshell.py",
        "function": "run_cell",
        "is_application_code": false,
        "line_no": 3042,
        "time": 4.809578
       },
       "sample_count": 102,
       "start_time": 1724274535.77826,
       "target_description": "Profile at /Users/kylekelley/code/src/github.com/AlbertDeFusco/jupyterlab-execute-time/miniprofiler.py:31"
      },
      "text/plain": [
       "<IPython.core.display.JSON object>"
      ]
     },
     "metadata": {
      "application/json": {
       "expanded": false,
       "root": "root"
      }
     },
     "output_type": "display_data"
    },
    {
     "data": {
      "application/vnd.miniprof+json": {
       "cpu_time": 0.032524,
       "duration": 4.809754,
       "memory_usage": 1261568,
       "root_frame": {
        "await_time": 0,
        "children": [
         {
          "await_time": 0,
          "children": [
           {
            "await_time": 0,
            "children": [
             {
              "await_time": 0,
              "children": [
               {
                "await_time": 0,
                "children": [
                 {
                  "await_time": 0,
                  "children": [
                   {
                    "await_time": 0,
                    "children": [
                     {
                      "await_time": 0,
                      "children": [
                       {
                        "await_time": 0,
                        "children": [
                         {
                          "await_time": 0,
                          "children": [
                           {
                            "await_time": 0,
                            "children": [
                             {
                              "await_time": 0,
                              "children": [
                               {
                                "await_time": 0,
                                "children": [
                                 {
                                  "await_time": 0,
                                  "children": [
                                   {
                                    "await_time": 0,
                                    "children": [],
                                    "file_path": "<built-in>",
                                    "file_path_short": "<built-in>",
                                    "function": "sleep",
                                    "is_application_code": false,
                                    "line_no": 0,
                                    "time": 1.945191
                                   },
                                   {
                                    "await_time": 0,
                                    "children": [
                                     {
                                      "await_time": 0,
                                      "children": [],
                                      "file_path": "<built-in>",
                                      "file_path_short": "<built-in>",
                                      "function": "sleep",
                                      "is_application_code": false,
                                      "line_no": 0,
                                      "time": 0.813155
                                     },
                                     {
                                      "await_time": 0,
                                      "children": [
                                       {
                                        "await_time": 0,
                                        "children": [],
                                        "file_path": "<built-in>",
                                        "file_path_short": "<built-in>",
                                        "function": "sleep",
                                        "is_application_code": false,
                                        "line_no": 0,
                                        "time": 0.107047
                                       }
                                      ],
                                      "file_path": "/var/folders/nr/rds9xrgx3dq8sp5f1vd4nrxm0000gn/T/ipykernel_6875/27809492.py",
                                      "file_path_short": "../../../../var/folders/nr/rds9xrgx3dq8sp5f1vd4nrxm0000gn/T/ipykernel_6875/27809492.py",
                                      "function": "fib",
                                      "is_application_code": true,
                                      "line_no": 3,
                                      "time": 0.107047
                                     }
                                    ],
                                    "file_path": "/var/folders/nr/rds9xrgx3dq8sp5f1vd4nrxm0000gn/T/ipykernel_6875/27809492.py",
                                    "file_path_short": "../../../../var/folders/nr/rds9xrgx3dq8sp5f1vd4nrxm0000gn/T/ipykernel_6875/27809492.py",
                                    "function": "fib",
                                    "is_application_code": true,
                                    "line_no": 3,
                                    "time": 0.920201
                                   }
                                  ],
                                  "file_path": "/var/folders/nr/rds9xrgx3dq8sp5f1vd4nrxm0000gn/T/ipykernel_6875/27809492.py",
                                  "file_path_short": "../../../../var/folders/nr/rds9xrgx3dq8sp5f1vd4nrxm0000gn/T/ipykernel_6875/27809492.py",
                                  "function": "fib",
                                  "is_application_code": true,
                                  "line_no": 3,
                                  "time": 2.866704
                                 },
                                 {
                                  "await_time": 0,
                                  "children": [],
                                  "file_path": "<built-in>",
                                  "file_path_short": "<built-in>",
                                  "function": "sleep",
                                  "is_application_code": false,
                                  "line_no": 0,
                                  "time": 1.612178
                                 }
                                ],
                                "file_path": "/var/folders/nr/rds9xrgx3dq8sp5f1vd4nrxm0000gn/T/ipykernel_6875/27809492.py",
                                "file_path_short": "../../../../var/folders/nr/rds9xrgx3dq8sp5f1vd4nrxm0000gn/T/ipykernel_6875/27809492.py",
                                "function": "fib",
                                "is_application_code": true,
                                "line_no": 3,
                                "time": 4.478882
                               },
                               {
                                "await_time": 0,
                                "children": [],
                                "file_path": "<built-in>",
                                "file_path_short": "<built-in>",
                                "function": "sleep",
                                "is_application_code": false,
                                "line_no": 0,
                                "time": 0.318201
                               }
                              ],
                              "file_path": "/var/folders/nr/rds9xrgx3dq8sp5f1vd4nrxm0000gn/T/ipykernel_6875/27809492.py",
                              "file_path_short": "../../../../var/folders/nr/rds9xrgx3dq8sp5f1vd4nrxm0000gn/T/ipykernel_6875/27809492.py",
                              "function": "fib",
                              "is_application_code": true,
                              "line_no": 3,
                              "time": 4.797083
                             }
                            ],
                            "file_path": "/var/folders/nr/rds9xrgx3dq8sp5f1vd4nrxm0000gn/T/ipykernel_6875/27809492.py",
                            "file_path_short": "../../../../var/folders/nr/rds9xrgx3dq8sp5f1vd4nrxm0000gn/T/ipykernel_6875/27809492.py",
                            "function": "fib",
                            "is_application_code": true,
                            "line_no": 3,
                            "time": 4.797083
                           }
                          ],
                          "file_path": "/var/folders/nr/rds9xrgx3dq8sp5f1vd4nrxm0000gn/T/ipykernel_6875/27809492.py",
                          "file_path_short": "../../../../var/folders/nr/rds9xrgx3dq8sp5f1vd4nrxm0000gn/T/ipykernel_6875/27809492.py",
                          "function": "fib",
                          "is_application_code": true,
                          "line_no": 3,
                          "time": 4.797083
                         }
                        ],
                        "file_path": "/var/folders/nr/rds9xrgx3dq8sp5f1vd4nrxm0000gn/T/ipykernel_6875/27809492.py",
                        "file_path_short": "../../../../var/folders/nr/rds9xrgx3dq8sp5f1vd4nrxm0000gn/T/ipykernel_6875/27809492.py",
                        "function": "fib",
                        "is_application_code": true,
                        "line_no": 3,
                        "time": 4.797083
                       }
                      ],
                      "file_path": "/var/folders/nr/rds9xrgx3dq8sp5f1vd4nrxm0000gn/T/ipykernel_6875/27809492.py",
                      "file_path_short": "../../../../var/folders/nr/rds9xrgx3dq8sp5f1vd4nrxm0000gn/T/ipykernel_6875/27809492.py",
                      "function": "fib",
                      "is_application_code": true,
                      "line_no": 3,
                      "time": 4.797083
                     }
                    ],
                    "file_path": "/var/folders/nr/rds9xrgx3dq8sp5f1vd4nrxm0000gn/T/ipykernel_6875/27809492.py",
                    "file_path_short": "../../../../var/folders/nr/rds9xrgx3dq8sp5f1vd4nrxm0000gn/T/ipykernel_6875/27809492.py",
                    "function": "fib",
                    "is_application_code": true,
                    "line_no": 3,
                    "time": 4.797083
                   }
                  ],
                  "file_path": "/var/folders/nr/rds9xrgx3dq8sp5f1vd4nrxm0000gn/T/ipykernel_6875/27809492.py",
                  "file_path_short": "../../../../var/folders/nr/rds9xrgx3dq8sp5f1vd4nrxm0000gn/T/ipykernel_6875/27809492.py",
                  "function": "<module>",
                  "is_application_code": true,
                  "line_no": 1,
                  "time": 4.808537
                 }
                ],
                "class_name": "ZMQInteractiveShell",
                "file_path": "/Users/kylekelley/.pyenv/versions/miniconda3-latest/lib/python3.11/site-packages/IPython/core/interactiveshell.py",
                "file_path_short": "IPython/core/interactiveshell.py",
                "function": "run_ast_nodes",
                "group_id": "2761d222-50f6-4883-973e-5dd4f2d31bd7",
                "is_application_code": false,
                "line_no": 3418,
                "time": 4.808537
               }
              ],
              "class_name": "ZMQInteractiveShell",
              "file_path": "/Users/kylekelley/.pyenv/versions/miniconda3-latest/lib/python3.11/site-packages/IPython/core/interactiveshell.py",
              "file_path_short": "IPython/core/interactiveshell.py",
              "function": "run_cell_async",
              "group_id": "2761d222-50f6-4883-973e-5dd4f2d31bd7",
              "is_application_code": false,
              "line_no": 3183,
              "time": 4.808537
             }
            ],
            "file_path": "/Users/kylekelley/.pyenv/versions/miniconda3-latest/lib/python3.11/site-packages/IPython/core/async_helpers.py",
            "file_path_short": "IPython/core/async_helpers.py",
            "function": "_pseudo_sync_runner",
            "group_id": "2761d222-50f6-4883-973e-5dd4f2d31bd7",
            "is_application_code": false,
            "line_no": 120,
            "time": 4.808537
           }
          ],
          "class_name": "ZMQInteractiveShell",
          "file_path": "/Users/kylekelley/.pyenv/versions/miniconda3-latest/lib/python3.11/site-packages/IPython/core/interactiveshell.py",
          "file_path_short": "IPython/core/interactiveshell.py",
          "function": "_run_cell",
          "group_id": "2761d222-50f6-4883-973e-5dd4f2d31bd7",
          "is_application_code": false,
          "line_no": 3084,
          "time": 4.808537
         }
        ],
        "class_name": "ZMQInteractiveShell",
        "file_path": "/Users/kylekelley/.pyenv/versions/miniconda3-latest/lib/python3.11/site-packages/IPython/core/interactiveshell.py",
        "file_path_short": "IPython/core/interactiveshell.py",
        "function": "run_cell",
        "is_application_code": false,
        "line_no": 3042,
        "time": 4.809578
       },
       "sample_count": 102,
       "start_time": 1724274535.77826,
       "target_description": "Profile at /Users/kylekelley/code/src/github.com/AlbertDeFusco/jupyterlab-execute-time/miniprofiler.py:31"
      }
     },
     "metadata": {},
     "output_type": "display_data"
    }
   ],
   "source": [
    "import time\n",
    "\n",
    "def fib(n):\n",
    "    if n < 2:\n",
    "        time.sleep(0.05)\n",
    "        return n\n",
    "    return fib(n - 1) + fib(n - 2)\n",
    "\n",
    "fib(10)"
   ]
  },
  {
   "cell_type": "code",
   "execution_count": 3,
   "metadata": {},
   "outputs": [
    {
     "name": "stdout",
     "output_type": "stream",
     "text": [
      "hello\n"
     ]
    },
    {
     "data": {
      "application/json": {
       "cpu_time": 0.033031,
       "duration": 4.810254,
       "memory_usage": 131072,
       "root_frame": {
        "await_time": 0,
        "children": [
         {
          "await_time": 0,
          "children": [
           {
            "await_time": 0,
            "children": [
             {
              "await_time": 0,
              "children": [
               {
                "await_time": 0,
                "children": [
                 {
                  "await_time": 0,
                  "children": [
                   {
                    "await_time": 0,
                    "children": [
                     {
                      "await_time": 0,
                      "children": [
                       {
                        "await_time": 0,
                        "children": [
                         {
                          "await_time": 0,
                          "children": [
                           {
                            "await_time": 0,
                            "children": [
                             {
                              "await_time": 0,
                              "children": [
                               {
                                "await_time": 0,
                                "children": [
                                 {
                                  "await_time": 0,
                                  "children": [
                                   {
                                    "await_time": 0,
                                    "children": [],
                                    "file_path": "<built-in>",
                                    "file_path_short": "<built-in>",
                                    "function": "sleep",
                                    "is_application_code": false,
                                    "line_no": 0,
                                    "time": 1.945191
                                   },
                                   {
                                    "await_time": 0,
                                    "children": [
                                     {
                                      "await_time": 0,
                                      "children": [],
                                      "file_path": "<built-in>",
                                      "file_path_short": "<built-in>",
                                      "function": "sleep",
                                      "is_application_code": false,
                                      "line_no": 0,
                                      "time": 0.813155
                                     },
                                     {
                                      "await_time": 0,
                                      "children": [
                                       {
                                        "await_time": 0,
                                        "children": [],
                                        "file_path": "<built-in>",
                                        "file_path_short": "<built-in>",
                                        "function": "sleep",
                                        "is_application_code": false,
                                        "line_no": 0,
                                        "time": 0.107047
                                       }
                                      ],
                                      "file_path": "/var/folders/nr/rds9xrgx3dq8sp5f1vd4nrxm0000gn/T/ipykernel_6875/27809492.py",
                                      "file_path_short": "../../../../var/folders/nr/rds9xrgx3dq8sp5f1vd4nrxm0000gn/T/ipykernel_6875/27809492.py",
                                      "function": "fib",
                                      "is_application_code": true,
                                      "line_no": 3,
                                      "time": 0.107047
                                     }
                                    ],
                                    "file_path": "/var/folders/nr/rds9xrgx3dq8sp5f1vd4nrxm0000gn/T/ipykernel_6875/27809492.py",
                                    "file_path_short": "../../../../var/folders/nr/rds9xrgx3dq8sp5f1vd4nrxm0000gn/T/ipykernel_6875/27809492.py",
                                    "function": "fib",
                                    "is_application_code": true,
                                    "line_no": 3,
                                    "time": 0.920201
                                   }
                                  ],
                                  "file_path": "/var/folders/nr/rds9xrgx3dq8sp5f1vd4nrxm0000gn/T/ipykernel_6875/27809492.py",
                                  "file_path_short": "../../../../var/folders/nr/rds9xrgx3dq8sp5f1vd4nrxm0000gn/T/ipykernel_6875/27809492.py",
                                  "function": "fib",
                                  "is_application_code": true,
                                  "line_no": 3,
                                  "time": 2.866704
                                 },
                                 {
                                  "await_time": 0,
                                  "children": [],
                                  "file_path": "<built-in>",
                                  "file_path_short": "<built-in>",
                                  "function": "sleep",
                                  "is_application_code": false,
                                  "line_no": 0,
                                  "time": 1.612178
                                 }
                                ],
                                "file_path": "/var/folders/nr/rds9xrgx3dq8sp5f1vd4nrxm0000gn/T/ipykernel_6875/27809492.py",
                                "file_path_short": "../../../../var/folders/nr/rds9xrgx3dq8sp5f1vd4nrxm0000gn/T/ipykernel_6875/27809492.py",
                                "function": "fib",
                                "is_application_code": true,
                                "line_no": 3,
                                "time": 4.478882
                               },
                               {
                                "await_time": 0,
                                "children": [],
                                "file_path": "<built-in>",
                                "file_path_short": "<built-in>",
                                "function": "sleep",
                                "is_application_code": false,
                                "line_no": 0,
                                "time": 0.318201
                               }
                              ],
                              "file_path": "/var/folders/nr/rds9xrgx3dq8sp5f1vd4nrxm0000gn/T/ipykernel_6875/27809492.py",
                              "file_path_short": "../../../../var/folders/nr/rds9xrgx3dq8sp5f1vd4nrxm0000gn/T/ipykernel_6875/27809492.py",
                              "function": "fib",
                              "is_application_code": true,
                              "line_no": 3,
                              "time": 4.797083
                             }
                            ],
                            "file_path": "/var/folders/nr/rds9xrgx3dq8sp5f1vd4nrxm0000gn/T/ipykernel_6875/27809492.py",
                            "file_path_short": "../../../../var/folders/nr/rds9xrgx3dq8sp5f1vd4nrxm0000gn/T/ipykernel_6875/27809492.py",
                            "function": "fib",
                            "is_application_code": true,
                            "line_no": 3,
                            "time": 4.797083
                           }
                          ],
                          "file_path": "/var/folders/nr/rds9xrgx3dq8sp5f1vd4nrxm0000gn/T/ipykernel_6875/27809492.py",
                          "file_path_short": "../../../../var/folders/nr/rds9xrgx3dq8sp5f1vd4nrxm0000gn/T/ipykernel_6875/27809492.py",
                          "function": "fib",
                          "is_application_code": true,
                          "line_no": 3,
                          "time": 4.797083
                         }
                        ],
                        "file_path": "/var/folders/nr/rds9xrgx3dq8sp5f1vd4nrxm0000gn/T/ipykernel_6875/27809492.py",
                        "file_path_short": "../../../../var/folders/nr/rds9xrgx3dq8sp5f1vd4nrxm0000gn/T/ipykernel_6875/27809492.py",
                        "function": "fib",
                        "is_application_code": true,
                        "line_no": 3,
                        "time": 4.797083
                       }
                      ],
                      "file_path": "/var/folders/nr/rds9xrgx3dq8sp5f1vd4nrxm0000gn/T/ipykernel_6875/27809492.py",
                      "file_path_short": "../../../../var/folders/nr/rds9xrgx3dq8sp5f1vd4nrxm0000gn/T/ipykernel_6875/27809492.py",
                      "function": "fib",
                      "is_application_code": true,
                      "line_no": 3,
                      "time": 4.797083
                     }
                    ],
                    "file_path": "/var/folders/nr/rds9xrgx3dq8sp5f1vd4nrxm0000gn/T/ipykernel_6875/27809492.py",
                    "file_path_short": "../../../../var/folders/nr/rds9xrgx3dq8sp5f1vd4nrxm0000gn/T/ipykernel_6875/27809492.py",
                    "function": "fib",
                    "is_application_code": true,
                    "line_no": 3,
                    "time": 4.797083
                   }
                  ],
                  "file_path": "/var/folders/nr/rds9xrgx3dq8sp5f1vd4nrxm0000gn/T/ipykernel_6875/27809492.py",
                  "file_path_short": "../../../../var/folders/nr/rds9xrgx3dq8sp5f1vd4nrxm0000gn/T/ipykernel_6875/27809492.py",
                  "function": "<module>",
                  "is_application_code": true,
                  "line_no": 1,
                  "time": 4.808537
                 }
                ],
                "class_name": "ZMQInteractiveShell",
                "file_path": "/Users/kylekelley/.pyenv/versions/miniconda3-latest/lib/python3.11/site-packages/IPython/core/interactiveshell.py",
                "file_path_short": "IPython/core/interactiveshell.py",
                "function": "run_ast_nodes",
                "group_id": "48364edc-af1a-488d-a50e-4d929046e1af",
                "is_application_code": false,
                "line_no": 3418,
                "time": 4.808537
               }
              ],
              "class_name": "ZMQInteractiveShell",
              "file_path": "/Users/kylekelley/.pyenv/versions/miniconda3-latest/lib/python3.11/site-packages/IPython/core/interactiveshell.py",
              "file_path_short": "IPython/core/interactiveshell.py",
              "function": "run_cell_async",
              "group_id": "48364edc-af1a-488d-a50e-4d929046e1af",
              "is_application_code": false,
              "line_no": 3183,
              "time": 4.808537
             }
            ],
            "file_path": "/Users/kylekelley/.pyenv/versions/miniconda3-latest/lib/python3.11/site-packages/IPython/core/async_helpers.py",
            "file_path_short": "IPython/core/async_helpers.py",
            "function": "_pseudo_sync_runner",
            "group_id": "48364edc-af1a-488d-a50e-4d929046e1af",
            "is_application_code": false,
            "line_no": 120,
            "time": 4.808537
           }
          ],
          "class_name": "ZMQInteractiveShell",
          "file_path": "/Users/kylekelley/.pyenv/versions/miniconda3-latest/lib/python3.11/site-packages/IPython/core/interactiveshell.py",
          "file_path_short": "IPython/core/interactiveshell.py",
          "function": "_run_cell",
          "group_id": "48364edc-af1a-488d-a50e-4d929046e1af",
          "is_application_code": false,
          "line_no": 3084,
          "time": 4.808537
         }
        ],
        "class_name": "ZMQInteractiveShell",
        "file_path": "/Users/kylekelley/.pyenv/versions/miniconda3-latest/lib/python3.11/site-packages/IPython/core/interactiveshell.py",
        "file_path_short": "IPython/core/interactiveshell.py",
        "function": "run_cell",
        "is_application_code": false,
        "line_no": 3042,
        "time": 4.809578
       },
       "sample_count": 102,
       "start_time": 1724274535.77826,
       "target_description": "Profile at /Users/kylekelley/code/src/github.com/AlbertDeFusco/jupyterlab-execute-time/miniprofiler.py:31"
      },
      "text/plain": [
       "<IPython.core.display.JSON object>"
      ]
     },
     "metadata": {
      "application/json": {
       "expanded": false,
       "root": "root"
      }
     },
     "output_type": "display_data"
    },
    {
     "data": {
      "application/vnd.miniprof+json": {
       "cpu_time": 0.033031,
       "duration": 4.810254,
       "memory_usage": 131072,
       "root_frame": {
        "await_time": 0,
        "children": [
         {
          "await_time": 0,
          "children": [
           {
            "await_time": 0,
            "children": [
             {
              "await_time": 0,
              "children": [
               {
                "await_time": 0,
                "children": [
                 {
                  "await_time": 0,
                  "children": [
                   {
                    "await_time": 0,
                    "children": [
                     {
                      "await_time": 0,
                      "children": [
                       {
                        "await_time": 0,
                        "children": [
                         {
                          "await_time": 0,
                          "children": [
                           {
                            "await_time": 0,
                            "children": [
                             {
                              "await_time": 0,
                              "children": [
                               {
                                "await_time": 0,
                                "children": [
                                 {
                                  "await_time": 0,
                                  "children": [
                                   {
                                    "await_time": 0,
                                    "children": [],
                                    "file_path": "<built-in>",
                                    "file_path_short": "<built-in>",
                                    "function": "sleep",
                                    "is_application_code": false,
                                    "line_no": 0,
                                    "time": 1.945191
                                   },
                                   {
                                    "await_time": 0,
                                    "children": [
                                     {
                                      "await_time": 0,
                                      "children": [],
                                      "file_path": "<built-in>",
                                      "file_path_short": "<built-in>",
                                      "function": "sleep",
                                      "is_application_code": false,
                                      "line_no": 0,
                                      "time": 0.813155
                                     },
                                     {
                                      "await_time": 0,
                                      "children": [
                                       {
                                        "await_time": 0,
                                        "children": [],
                                        "file_path": "<built-in>",
                                        "file_path_short": "<built-in>",
                                        "function": "sleep",
                                        "is_application_code": false,
                                        "line_no": 0,
                                        "time": 0.107047
                                       }
                                      ],
                                      "file_path": "/var/folders/nr/rds9xrgx3dq8sp5f1vd4nrxm0000gn/T/ipykernel_6875/27809492.py",
                                      "file_path_short": "../../../../var/folders/nr/rds9xrgx3dq8sp5f1vd4nrxm0000gn/T/ipykernel_6875/27809492.py",
                                      "function": "fib",
                                      "is_application_code": true,
                                      "line_no": 3,
                                      "time": 0.107047
                                     }
                                    ],
                                    "file_path": "/var/folders/nr/rds9xrgx3dq8sp5f1vd4nrxm0000gn/T/ipykernel_6875/27809492.py",
                                    "file_path_short": "../../../../var/folders/nr/rds9xrgx3dq8sp5f1vd4nrxm0000gn/T/ipykernel_6875/27809492.py",
                                    "function": "fib",
                                    "is_application_code": true,
                                    "line_no": 3,
                                    "time": 0.920201
                                   }
                                  ],
                                  "file_path": "/var/folders/nr/rds9xrgx3dq8sp5f1vd4nrxm0000gn/T/ipykernel_6875/27809492.py",
                                  "file_path_short": "../../../../var/folders/nr/rds9xrgx3dq8sp5f1vd4nrxm0000gn/T/ipykernel_6875/27809492.py",
                                  "function": "fib",
                                  "is_application_code": true,
                                  "line_no": 3,
                                  "time": 2.866704
                                 },
                                 {
                                  "await_time": 0,
                                  "children": [],
                                  "file_path": "<built-in>",
                                  "file_path_short": "<built-in>",
                                  "function": "sleep",
                                  "is_application_code": false,
                                  "line_no": 0,
                                  "time": 1.612178
                                 }
                                ],
                                "file_path": "/var/folders/nr/rds9xrgx3dq8sp5f1vd4nrxm0000gn/T/ipykernel_6875/27809492.py",
                                "file_path_short": "../../../../var/folders/nr/rds9xrgx3dq8sp5f1vd4nrxm0000gn/T/ipykernel_6875/27809492.py",
                                "function": "fib",
                                "is_application_code": true,
                                "line_no": 3,
                                "time": 4.478882
                               },
                               {
                                "await_time": 0,
                                "children": [],
                                "file_path": "<built-in>",
                                "file_path_short": "<built-in>",
                                "function": "sleep",
                                "is_application_code": false,
                                "line_no": 0,
                                "time": 0.318201
                               }
                              ],
                              "file_path": "/var/folders/nr/rds9xrgx3dq8sp5f1vd4nrxm0000gn/T/ipykernel_6875/27809492.py",
                              "file_path_short": "../../../../var/folders/nr/rds9xrgx3dq8sp5f1vd4nrxm0000gn/T/ipykernel_6875/27809492.py",
                              "function": "fib",
                              "is_application_code": true,
                              "line_no": 3,
                              "time": 4.797083
                             }
                            ],
                            "file_path": "/var/folders/nr/rds9xrgx3dq8sp5f1vd4nrxm0000gn/T/ipykernel_6875/27809492.py",
                            "file_path_short": "../../../../var/folders/nr/rds9xrgx3dq8sp5f1vd4nrxm0000gn/T/ipykernel_6875/27809492.py",
                            "function": "fib",
                            "is_application_code": true,
                            "line_no": 3,
                            "time": 4.797083
                           }
                          ],
                          "file_path": "/var/folders/nr/rds9xrgx3dq8sp5f1vd4nrxm0000gn/T/ipykernel_6875/27809492.py",
                          "file_path_short": "../../../../var/folders/nr/rds9xrgx3dq8sp5f1vd4nrxm0000gn/T/ipykernel_6875/27809492.py",
                          "function": "fib",
                          "is_application_code": true,
                          "line_no": 3,
                          "time": 4.797083
                         }
                        ],
                        "file_path": "/var/folders/nr/rds9xrgx3dq8sp5f1vd4nrxm0000gn/T/ipykernel_6875/27809492.py",
                        "file_path_short": "../../../../var/folders/nr/rds9xrgx3dq8sp5f1vd4nrxm0000gn/T/ipykernel_6875/27809492.py",
                        "function": "fib",
                        "is_application_code": true,
                        "line_no": 3,
                        "time": 4.797083
                       }
                      ],
                      "file_path": "/var/folders/nr/rds9xrgx3dq8sp5f1vd4nrxm0000gn/T/ipykernel_6875/27809492.py",
                      "file_path_short": "../../../../var/folders/nr/rds9xrgx3dq8sp5f1vd4nrxm0000gn/T/ipykernel_6875/27809492.py",
                      "function": "fib",
                      "is_application_code": true,
                      "line_no": 3,
                      "time": 4.797083
                     }
                    ],
                    "file_path": "/var/folders/nr/rds9xrgx3dq8sp5f1vd4nrxm0000gn/T/ipykernel_6875/27809492.py",
                    "file_path_short": "../../../../var/folders/nr/rds9xrgx3dq8sp5f1vd4nrxm0000gn/T/ipykernel_6875/27809492.py",
                    "function": "fib",
                    "is_application_code": true,
                    "line_no": 3,
                    "time": 4.797083
                   }
                  ],
                  "file_path": "/var/folders/nr/rds9xrgx3dq8sp5f1vd4nrxm0000gn/T/ipykernel_6875/27809492.py",
                  "file_path_short": "../../../../var/folders/nr/rds9xrgx3dq8sp5f1vd4nrxm0000gn/T/ipykernel_6875/27809492.py",
                  "function": "<module>",
                  "is_application_code": true,
                  "line_no": 1,
                  "time": 4.808537
                 }
                ],
                "class_name": "ZMQInteractiveShell",
                "file_path": "/Users/kylekelley/.pyenv/versions/miniconda3-latest/lib/python3.11/site-packages/IPython/core/interactiveshell.py",
                "file_path_short": "IPython/core/interactiveshell.py",
                "function": "run_ast_nodes",
                "group_id": "48364edc-af1a-488d-a50e-4d929046e1af",
                "is_application_code": false,
                "line_no": 3418,
                "time": 4.808537
               }
              ],
              "class_name": "ZMQInteractiveShell",
              "file_path": "/Users/kylekelley/.pyenv/versions/miniconda3-latest/lib/python3.11/site-packages/IPython/core/interactiveshell.py",
              "file_path_short": "IPython/core/interactiveshell.py",
              "function": "run_cell_async",
              "group_id": "48364edc-af1a-488d-a50e-4d929046e1af",
              "is_application_code": false,
              "line_no": 3183,
              "time": 4.808537
             }
            ],
            "file_path": "/Users/kylekelley/.pyenv/versions/miniconda3-latest/lib/python3.11/site-packages/IPython/core/async_helpers.py",
            "file_path_short": "IPython/core/async_helpers.py",
            "function": "_pseudo_sync_runner",
            "group_id": "48364edc-af1a-488d-a50e-4d929046e1af",
            "is_application_code": false,
            "line_no": 120,
            "time": 4.808537
           }
          ],
          "class_name": "ZMQInteractiveShell",
          "file_path": "/Users/kylekelley/.pyenv/versions/miniconda3-latest/lib/python3.11/site-packages/IPython/core/interactiveshell.py",
          "file_path_short": "IPython/core/interactiveshell.py",
          "function": "_run_cell",
          "group_id": "48364edc-af1a-488d-a50e-4d929046e1af",
          "is_application_code": false,
          "line_no": 3084,
          "time": 4.808537
         }
        ],
        "class_name": "ZMQInteractiveShell",
        "file_path": "/Users/kylekelley/.pyenv/versions/miniconda3-latest/lib/python3.11/site-packages/IPython/core/interactiveshell.py",
        "file_path_short": "IPython/core/interactiveshell.py",
        "function": "run_cell",
        "is_application_code": false,
        "line_no": 3042,
        "time": 4.809578
       },
       "sample_count": 102,
       "start_time": 1724274535.77826,
       "target_description": "Profile at /Users/kylekelley/code/src/github.com/AlbertDeFusco/jupyterlab-execute-time/miniprofiler.py:31"
      }
     },
     "metadata": {},
     "output_type": "display_data"
    }
   ],
   "source": [
    "print('hello')"
   ]
  },
  {
   "cell_type": "code",
   "execution_count": 4,
   "metadata": {},
   "outputs": [
    {
     "data": {
      "application/json": {
       "cpu_time": 4.415268,
       "duration": 5.404775,
       "memory_usage": 820068352,
       "root_frame": {
        "await_time": 0,
        "children": [
         {
          "await_time": 0,
          "children": [
           {
            "await_time": 0,
            "children": [
             {
              "await_time": 0,
              "children": [
               {
                "await_time": 0,
                "children": [
                 {
                  "await_time": 0,
                  "children": [
                   {
                    "await_time": 0,
                    "children": [
                     {
                      "await_time": 0,
                      "children": [
                       {
                        "await_time": 0,
                        "children": [
                         {
                          "await_time": 0,
                          "children": [
                           {
                            "await_time": 0,
                            "children": [
                             {
                              "await_time": 0,
                              "children": [
                               {
                                "await_time": 0,
                                "children": [
                                 {
                                  "await_time": 0,
                                  "children": [
                                   {
                                    "await_time": 0,
                                    "children": [],
                                    "file_path": "<built-in>",
                                    "file_path_short": "<built-in>",
                                    "function": "sleep",
                                    "is_application_code": false,
                                    "line_no": 0,
                                    "time": 1.945191
                                   },
                                   {
                                    "await_time": 0,
                                    "children": [
                                     {
                                      "await_time": 0,
                                      "children": [],
                                      "file_path": "<built-in>",
                                      "file_path_short": "<built-in>",
                                      "function": "sleep",
                                      "is_application_code": false,
                                      "line_no": 0,
                                      "time": 0.813155
                                     },
                                     {
                                      "await_time": 0,
                                      "children": [
                                       {
                                        "await_time": 0,
                                        "children": [],
                                        "file_path": "<built-in>",
                                        "file_path_short": "<built-in>",
                                        "function": "sleep",
                                        "is_application_code": false,
                                        "line_no": 0,
                                        "time": 0.107047
                                       }
                                      ],
                                      "file_path": "/var/folders/nr/rds9xrgx3dq8sp5f1vd4nrxm0000gn/T/ipykernel_6875/27809492.py",
                                      "file_path_short": "../../../../var/folders/nr/rds9xrgx3dq8sp5f1vd4nrxm0000gn/T/ipykernel_6875/27809492.py",
                                      "function": "fib",
                                      "is_application_code": true,
                                      "line_no": 3,
                                      "time": 0.107047
                                     }
                                    ],
                                    "file_path": "/var/folders/nr/rds9xrgx3dq8sp5f1vd4nrxm0000gn/T/ipykernel_6875/27809492.py",
                                    "file_path_short": "../../../../var/folders/nr/rds9xrgx3dq8sp5f1vd4nrxm0000gn/T/ipykernel_6875/27809492.py",
                                    "function": "fib",
                                    "is_application_code": true,
                                    "line_no": 3,
                                    "time": 0.920201
                                   }
                                  ],
                                  "file_path": "/var/folders/nr/rds9xrgx3dq8sp5f1vd4nrxm0000gn/T/ipykernel_6875/27809492.py",
                                  "file_path_short": "../../../../var/folders/nr/rds9xrgx3dq8sp5f1vd4nrxm0000gn/T/ipykernel_6875/27809492.py",
                                  "function": "fib",
                                  "is_application_code": true,
                                  "line_no": 3,
                                  "time": 2.866704
                                 },
                                 {
                                  "await_time": 0,
                                  "children": [],
                                  "file_path": "<built-in>",
                                  "file_path_short": "<built-in>",
                                  "function": "sleep",
                                  "is_application_code": false,
                                  "line_no": 0,
                                  "time": 1.612178
                                 }
                                ],
                                "file_path": "/var/folders/nr/rds9xrgx3dq8sp5f1vd4nrxm0000gn/T/ipykernel_6875/27809492.py",
                                "file_path_short": "../../../../var/folders/nr/rds9xrgx3dq8sp5f1vd4nrxm0000gn/T/ipykernel_6875/27809492.py",
                                "function": "fib",
                                "is_application_code": true,
                                "line_no": 3,
                                "time": 4.478882
                               },
                               {
                                "await_time": 0,
                                "children": [],
                                "file_path": "<built-in>",
                                "file_path_short": "<built-in>",
                                "function": "sleep",
                                "is_application_code": false,
                                "line_no": 0,
                                "time": 0.318201
                               }
                              ],
                              "file_path": "/var/folders/nr/rds9xrgx3dq8sp5f1vd4nrxm0000gn/T/ipykernel_6875/27809492.py",
                              "file_path_short": "../../../../var/folders/nr/rds9xrgx3dq8sp5f1vd4nrxm0000gn/T/ipykernel_6875/27809492.py",
                              "function": "fib",
                              "is_application_code": true,
                              "line_no": 3,
                              "time": 4.797083
                             }
                            ],
                            "file_path": "/var/folders/nr/rds9xrgx3dq8sp5f1vd4nrxm0000gn/T/ipykernel_6875/27809492.py",
                            "file_path_short": "../../../../var/folders/nr/rds9xrgx3dq8sp5f1vd4nrxm0000gn/T/ipykernel_6875/27809492.py",
                            "function": "fib",
                            "is_application_code": true,
                            "line_no": 3,
                            "time": 4.797083
                           }
                          ],
                          "file_path": "/var/folders/nr/rds9xrgx3dq8sp5f1vd4nrxm0000gn/T/ipykernel_6875/27809492.py",
                          "file_path_short": "../../../../var/folders/nr/rds9xrgx3dq8sp5f1vd4nrxm0000gn/T/ipykernel_6875/27809492.py",
                          "function": "fib",
                          "is_application_code": true,
                          "line_no": 3,
                          "time": 4.797083
                         }
                        ],
                        "file_path": "/var/folders/nr/rds9xrgx3dq8sp5f1vd4nrxm0000gn/T/ipykernel_6875/27809492.py",
                        "file_path_short": "../../../../var/folders/nr/rds9xrgx3dq8sp5f1vd4nrxm0000gn/T/ipykernel_6875/27809492.py",
                        "function": "fib",
                        "is_application_code": true,
                        "line_no": 3,
                        "time": 4.797083
                       }
                      ],
                      "file_path": "/var/folders/nr/rds9xrgx3dq8sp5f1vd4nrxm0000gn/T/ipykernel_6875/27809492.py",
                      "file_path_short": "../../../../var/folders/nr/rds9xrgx3dq8sp5f1vd4nrxm0000gn/T/ipykernel_6875/27809492.py",
                      "function": "fib",
                      "is_application_code": true,
                      "line_no": 3,
                      "time": 4.797083
                     }
                    ],
                    "file_path": "/var/folders/nr/rds9xrgx3dq8sp5f1vd4nrxm0000gn/T/ipykernel_6875/27809492.py",
                    "file_path_short": "../../../../var/folders/nr/rds9xrgx3dq8sp5f1vd4nrxm0000gn/T/ipykernel_6875/27809492.py",
                    "function": "fib",
                    "is_application_code": true,
                    "line_no": 3,
                    "time": 4.797083
                   }
                  ],
                  "file_path": "/var/folders/nr/rds9xrgx3dq8sp5f1vd4nrxm0000gn/T/ipykernel_6875/27809492.py",
                  "file_path_short": "../../../../var/folders/nr/rds9xrgx3dq8sp5f1vd4nrxm0000gn/T/ipykernel_6875/27809492.py",
                  "function": "<module>",
                  "is_application_code": true,
                  "line_no": 1,
                  "time": 4.808537
                 },
                 {
                  "await_time": 0,
                  "children": [
                   {
                    "await_time": 0,
                    "children": [],
                    "file_path": "<built-in>",
                    "file_path_short": "<built-in>",
                    "function": "RandomState.rand",
                    "is_application_code": false,
                    "line_no": 0,
                    "time": 0.312009
                   },
                   {
                    "await_time": 0,
                    "children": [
                     {
                      "await_time": 0,
                      "children": [],
                      "file_path": "/Users/kylekelley/.pyenv/versions/miniconda3-latest/lib/python3.11/site-packages/numpy/core/__init__.py",
                      "file_path_short": "numpy/core/__init__.py",
                      "function": "<module>",
                      "group_id": "306f839a-9330-4012-ab40-ca054dead912",
                      "is_application_code": false,
                      "line_no": 1,
                      "time": 0.110544
                     },
                     {
                      "await_time": 0,
                      "children": [],
                      "file_path": "/Users/kylekelley/.pyenv/versions/miniconda3-latest/lib/python3.11/site-packages/numpy/lib/__init__.py",
                      "file_path_short": "numpy/lib/__init__.py",
                      "function": "<module>",
                      "group_id": "306f839a-9330-4012-ab40-ca054dead912",
                      "is_application_code": false,
                      "line_no": 1,
                      "time": 0.107331
                     }
                    ],
                    "file_path": "/Users/kylekelley/.pyenv/versions/miniconda3-latest/lib/python3.11/site-packages/numpy/__init__.py",
                    "file_path_short": "numpy/__init__.py",
                    "function": "<module>",
                    "group_id": "306f839a-9330-4012-ab40-ca054dead912",
                    "is_application_code": false,
                    "line_no": 1,
                    "time": 0.281208
                   }
                  ],
                  "file_path": "/var/folders/nr/rds9xrgx3dq8sp5f1vd4nrxm0000gn/T/ipykernel_6875/1470982319.py",
                  "file_path_short": "../../../../var/folders/nr/rds9xrgx3dq8sp5f1vd4nrxm0000gn/T/ipykernel_6875/1470982319.py",
                  "function": "<module>",
                  "is_application_code": true,
                  "line_no": 1,
                  "time": 0.594223
                 }
                ],
                "class_name": "ZMQInteractiveShell",
                "file_path": "/Users/kylekelley/.pyenv/versions/miniconda3-latest/lib/python3.11/site-packages/IPython/core/interactiveshell.py",
                "file_path_short": "IPython/core/interactiveshell.py",
                "function": "run_ast_nodes",
                "group_id": "d8825b85-d276-4544-936d-14e3078e434f",
                "is_application_code": false,
                "line_no": 3418,
                "time": 5.402761
               }
              ],
              "class_name": "ZMQInteractiveShell",
              "file_path": "/Users/kylekelley/.pyenv/versions/miniconda3-latest/lib/python3.11/site-packages/IPython/core/interactiveshell.py",
              "file_path_short": "IPython/core/interactiveshell.py",
              "function": "run_cell_async",
              "group_id": "d8825b85-d276-4544-936d-14e3078e434f",
              "is_application_code": false,
              "line_no": 3183,
              "time": 5.402761
             }
            ],
            "file_path": "/Users/kylekelley/.pyenv/versions/miniconda3-latest/lib/python3.11/site-packages/IPython/core/async_helpers.py",
            "file_path_short": "IPython/core/async_helpers.py",
            "function": "_pseudo_sync_runner",
            "group_id": "d8825b85-d276-4544-936d-14e3078e434f",
            "is_application_code": false,
            "line_no": 120,
            "time": 5.402761
           }
          ],
          "class_name": "ZMQInteractiveShell",
          "file_path": "/Users/kylekelley/.pyenv/versions/miniconda3-latest/lib/python3.11/site-packages/IPython/core/interactiveshell.py",
          "file_path_short": "IPython/core/interactiveshell.py",
          "function": "_run_cell",
          "group_id": "d8825b85-d276-4544-936d-14e3078e434f",
          "is_application_code": false,
          "line_no": 3084,
          "time": 5.402761
         }
        ],
        "class_name": "ZMQInteractiveShell",
        "file_path": "/Users/kylekelley/.pyenv/versions/miniconda3-latest/lib/python3.11/site-packages/IPython/core/interactiveshell.py",
        "file_path_short": "IPython/core/interactiveshell.py",
        "function": "run_cell",
        "is_application_code": false,
        "line_no": 3042,
        "time": 5.403802
       },
       "sample_count": 325,
       "start_time": 1724274535.77826,
       "target_description": "Profile at /Users/kylekelley/code/src/github.com/AlbertDeFusco/jupyterlab-execute-time/miniprofiler.py:31"
      },
      "text/plain": [
       "<IPython.core.display.JSON object>"
      ]
     },
     "metadata": {
      "application/json": {
       "expanded": false,
       "root": "root"
      }
     },
     "output_type": "display_data"
    },
    {
     "data": {
      "application/vnd.miniprof+json": {
       "cpu_time": 4.415268,
       "duration": 5.404775,
       "memory_usage": 820068352,
       "root_frame": {
        "await_time": 0,
        "children": [
         {
          "await_time": 0,
          "children": [
           {
            "await_time": 0,
            "children": [
             {
              "await_time": 0,
              "children": [
               {
                "await_time": 0,
                "children": [
                 {
                  "await_time": 0,
                  "children": [
                   {
                    "await_time": 0,
                    "children": [
                     {
                      "await_time": 0,
                      "children": [
                       {
                        "await_time": 0,
                        "children": [
                         {
                          "await_time": 0,
                          "children": [
                           {
                            "await_time": 0,
                            "children": [
                             {
                              "await_time": 0,
                              "children": [
                               {
                                "await_time": 0,
                                "children": [
                                 {
                                  "await_time": 0,
                                  "children": [
                                   {
                                    "await_time": 0,
                                    "children": [],
                                    "file_path": "<built-in>",
                                    "file_path_short": "<built-in>",
                                    "function": "sleep",
                                    "is_application_code": false,
                                    "line_no": 0,
                                    "time": 1.945191
                                   },
                                   {
                                    "await_time": 0,
                                    "children": [
                                     {
                                      "await_time": 0,
                                      "children": [],
                                      "file_path": "<built-in>",
                                      "file_path_short": "<built-in>",
                                      "function": "sleep",
                                      "is_application_code": false,
                                      "line_no": 0,
                                      "time": 0.813155
                                     },
                                     {
                                      "await_time": 0,
                                      "children": [
                                       {
                                        "await_time": 0,
                                        "children": [],
                                        "file_path": "<built-in>",
                                        "file_path_short": "<built-in>",
                                        "function": "sleep",
                                        "is_application_code": false,
                                        "line_no": 0,
                                        "time": 0.107047
                                       }
                                      ],
                                      "file_path": "/var/folders/nr/rds9xrgx3dq8sp5f1vd4nrxm0000gn/T/ipykernel_6875/27809492.py",
                                      "file_path_short": "../../../../var/folders/nr/rds9xrgx3dq8sp5f1vd4nrxm0000gn/T/ipykernel_6875/27809492.py",
                                      "function": "fib",
                                      "is_application_code": true,
                                      "line_no": 3,
                                      "time": 0.107047
                                     }
                                    ],
                                    "file_path": "/var/folders/nr/rds9xrgx3dq8sp5f1vd4nrxm0000gn/T/ipykernel_6875/27809492.py",
                                    "file_path_short": "../../../../var/folders/nr/rds9xrgx3dq8sp5f1vd4nrxm0000gn/T/ipykernel_6875/27809492.py",
                                    "function": "fib",
                                    "is_application_code": true,
                                    "line_no": 3,
                                    "time": 0.920201
                                   }
                                  ],
                                  "file_path": "/var/folders/nr/rds9xrgx3dq8sp5f1vd4nrxm0000gn/T/ipykernel_6875/27809492.py",
                                  "file_path_short": "../../../../var/folders/nr/rds9xrgx3dq8sp5f1vd4nrxm0000gn/T/ipykernel_6875/27809492.py",
                                  "function": "fib",
                                  "is_application_code": true,
                                  "line_no": 3,
                                  "time": 2.866704
                                 },
                                 {
                                  "await_time": 0,
                                  "children": [],
                                  "file_path": "<built-in>",
                                  "file_path_short": "<built-in>",
                                  "function": "sleep",
                                  "is_application_code": false,
                                  "line_no": 0,
                                  "time": 1.612178
                                 }
                                ],
                                "file_path": "/var/folders/nr/rds9xrgx3dq8sp5f1vd4nrxm0000gn/T/ipykernel_6875/27809492.py",
                                "file_path_short": "../../../../var/folders/nr/rds9xrgx3dq8sp5f1vd4nrxm0000gn/T/ipykernel_6875/27809492.py",
                                "function": "fib",
                                "is_application_code": true,
                                "line_no": 3,
                                "time": 4.478882
                               },
                               {
                                "await_time": 0,
                                "children": [],
                                "file_path": "<built-in>",
                                "file_path_short": "<built-in>",
                                "function": "sleep",
                                "is_application_code": false,
                                "line_no": 0,
                                "time": 0.318201
                               }
                              ],
                              "file_path": "/var/folders/nr/rds9xrgx3dq8sp5f1vd4nrxm0000gn/T/ipykernel_6875/27809492.py",
                              "file_path_short": "../../../../var/folders/nr/rds9xrgx3dq8sp5f1vd4nrxm0000gn/T/ipykernel_6875/27809492.py",
                              "function": "fib",
                              "is_application_code": true,
                              "line_no": 3,
                              "time": 4.797083
                             }
                            ],
                            "file_path": "/var/folders/nr/rds9xrgx3dq8sp5f1vd4nrxm0000gn/T/ipykernel_6875/27809492.py",
                            "file_path_short": "../../../../var/folders/nr/rds9xrgx3dq8sp5f1vd4nrxm0000gn/T/ipykernel_6875/27809492.py",
                            "function": "fib",
                            "is_application_code": true,
                            "line_no": 3,
                            "time": 4.797083
                           }
                          ],
                          "file_path": "/var/folders/nr/rds9xrgx3dq8sp5f1vd4nrxm0000gn/T/ipykernel_6875/27809492.py",
                          "file_path_short": "../../../../var/folders/nr/rds9xrgx3dq8sp5f1vd4nrxm0000gn/T/ipykernel_6875/27809492.py",
                          "function": "fib",
                          "is_application_code": true,
                          "line_no": 3,
                          "time": 4.797083
                         }
                        ],
                        "file_path": "/var/folders/nr/rds9xrgx3dq8sp5f1vd4nrxm0000gn/T/ipykernel_6875/27809492.py",
                        "file_path_short": "../../../../var/folders/nr/rds9xrgx3dq8sp5f1vd4nrxm0000gn/T/ipykernel_6875/27809492.py",
                        "function": "fib",
                        "is_application_code": true,
                        "line_no": 3,
                        "time": 4.797083
                       }
                      ],
                      "file_path": "/var/folders/nr/rds9xrgx3dq8sp5f1vd4nrxm0000gn/T/ipykernel_6875/27809492.py",
                      "file_path_short": "../../../../var/folders/nr/rds9xrgx3dq8sp5f1vd4nrxm0000gn/T/ipykernel_6875/27809492.py",
                      "function": "fib",
                      "is_application_code": true,
                      "line_no": 3,
                      "time": 4.797083
                     }
                    ],
                    "file_path": "/var/folders/nr/rds9xrgx3dq8sp5f1vd4nrxm0000gn/T/ipykernel_6875/27809492.py",
                    "file_path_short": "../../../../var/folders/nr/rds9xrgx3dq8sp5f1vd4nrxm0000gn/T/ipykernel_6875/27809492.py",
                    "function": "fib",
                    "is_application_code": true,
                    "line_no": 3,
                    "time": 4.797083
                   }
                  ],
                  "file_path": "/var/folders/nr/rds9xrgx3dq8sp5f1vd4nrxm0000gn/T/ipykernel_6875/27809492.py",
                  "file_path_short": "../../../../var/folders/nr/rds9xrgx3dq8sp5f1vd4nrxm0000gn/T/ipykernel_6875/27809492.py",
                  "function": "<module>",
                  "is_application_code": true,
                  "line_no": 1,
                  "time": 4.808537
                 },
                 {
                  "await_time": 0,
                  "children": [
                   {
                    "await_time": 0,
                    "children": [],
                    "file_path": "<built-in>",
                    "file_path_short": "<built-in>",
                    "function": "RandomState.rand",
                    "is_application_code": false,
                    "line_no": 0,
                    "time": 0.312009
                   },
                   {
                    "await_time": 0,
                    "children": [
                     {
                      "await_time": 0,
                      "children": [],
                      "file_path": "/Users/kylekelley/.pyenv/versions/miniconda3-latest/lib/python3.11/site-packages/numpy/core/__init__.py",
                      "file_path_short": "numpy/core/__init__.py",
                      "function": "<module>",
                      "group_id": "306f839a-9330-4012-ab40-ca054dead912",
                      "is_application_code": false,
                      "line_no": 1,
                      "time": 0.110544
                     },
                     {
                      "await_time": 0,
                      "children": [],
                      "file_path": "/Users/kylekelley/.pyenv/versions/miniconda3-latest/lib/python3.11/site-packages/numpy/lib/__init__.py",
                      "file_path_short": "numpy/lib/__init__.py",
                      "function": "<module>",
                      "group_id": "306f839a-9330-4012-ab40-ca054dead912",
                      "is_application_code": false,
                      "line_no": 1,
                      "time": 0.107331
                     }
                    ],
                    "file_path": "/Users/kylekelley/.pyenv/versions/miniconda3-latest/lib/python3.11/site-packages/numpy/__init__.py",
                    "file_path_short": "numpy/__init__.py",
                    "function": "<module>",
                    "group_id": "306f839a-9330-4012-ab40-ca054dead912",
                    "is_application_code": false,
                    "line_no": 1,
                    "time": 0.281208
                   }
                  ],
                  "file_path": "/var/folders/nr/rds9xrgx3dq8sp5f1vd4nrxm0000gn/T/ipykernel_6875/1470982319.py",
                  "file_path_short": "../../../../var/folders/nr/rds9xrgx3dq8sp5f1vd4nrxm0000gn/T/ipykernel_6875/1470982319.py",
                  "function": "<module>",
                  "is_application_code": true,
                  "line_no": 1,
                  "time": 0.594223
                 }
                ],
                "class_name": "ZMQInteractiveShell",
                "file_path": "/Users/kylekelley/.pyenv/versions/miniconda3-latest/lib/python3.11/site-packages/IPython/core/interactiveshell.py",
                "file_path_short": "IPython/core/interactiveshell.py",
                "function": "run_ast_nodes",
                "group_id": "d8825b85-d276-4544-936d-14e3078e434f",
                "is_application_code": false,
                "line_no": 3418,
                "time": 5.402761
               }
              ],
              "class_name": "ZMQInteractiveShell",
              "file_path": "/Users/kylekelley/.pyenv/versions/miniconda3-latest/lib/python3.11/site-packages/IPython/core/interactiveshell.py",
              "file_path_short": "IPython/core/interactiveshell.py",
              "function": "run_cell_async",
              "group_id": "d8825b85-d276-4544-936d-14e3078e434f",
              "is_application_code": false,
              "line_no": 3183,
              "time": 5.402761
             }
            ],
            "file_path": "/Users/kylekelley/.pyenv/versions/miniconda3-latest/lib/python3.11/site-packages/IPython/core/async_helpers.py",
            "file_path_short": "IPython/core/async_helpers.py",
            "function": "_pseudo_sync_runner",
            "group_id": "d8825b85-d276-4544-936d-14e3078e434f",
            "is_application_code": false,
            "line_no": 120,
            "time": 5.402761
           }
          ],
          "class_name": "ZMQInteractiveShell",
          "file_path": "/Users/kylekelley/.pyenv/versions/miniconda3-latest/lib/python3.11/site-packages/IPython/core/interactiveshell.py",
          "file_path_short": "IPython/core/interactiveshell.py",
          "function": "_run_cell",
          "group_id": "d8825b85-d276-4544-936d-14e3078e434f",
          "is_application_code": false,
          "line_no": 3084,
          "time": 5.402761
         }
        ],
        "class_name": "ZMQInteractiveShell",
        "file_path": "/Users/kylekelley/.pyenv/versions/miniconda3-latest/lib/python3.11/site-packages/IPython/core/interactiveshell.py",
        "file_path_short": "IPython/core/interactiveshell.py",
        "function": "run_cell",
        "is_application_code": false,
        "line_no": 3042,
        "time": 5.403802
       },
       "sample_count": 325,
       "start_time": 1724274535.77826,
       "target_description": "Profile at /Users/kylekelley/code/src/github.com/AlbertDeFusco/jupyterlab-execute-time/miniprofiler.py:31"
      }
     },
     "metadata": {},
     "output_type": "display_data"
    }
   ],
   "source": [
    "import numpy as np\n",
    "\n",
    "# Allocate a large array\n",
    "large_array = np.random.rand(10000, 10000)"
   ]
  },
  {
   "cell_type": "code",
   "execution_count": 5,
   "metadata": {},
   "outputs": [
    {
     "data": {
      "application/json": {
       "cpu_time": 4.420747,
       "duration": 5.420064,
       "memory_usage": -799834112,
       "root_frame": {
        "await_time": 0,
        "children": [
         {
          "await_time": 0,
          "children": [
           {
            "await_time": 0,
            "children": [
             {
              "await_time": 0,
              "children": [
               {
                "await_time": 0,
                "children": [
                 {
                  "await_time": 0,
                  "children": [
                   {
                    "await_time": 0,
                    "children": [
                     {
                      "await_time": 0,
                      "children": [
                       {
                        "await_time": 0,
                        "children": [
                         {
                          "await_time": 0,
                          "children": [
                           {
                            "await_time": 0,
                            "children": [
                             {
                              "await_time": 0,
                              "children": [
                               {
                                "await_time": 0,
                                "children": [
                                 {
                                  "await_time": 0,
                                  "children": [
                                   {
                                    "await_time": 0,
                                    "children": [],
                                    "file_path": "<built-in>",
                                    "file_path_short": "<built-in>",
                                    "function": "sleep",
                                    "is_application_code": false,
                                    "line_no": 0,
                                    "time": 1.945191
                                   },
                                   {
                                    "await_time": 0,
                                    "children": [
                                     {
                                      "await_time": 0,
                                      "children": [],
                                      "file_path": "<built-in>",
                                      "file_path_short": "<built-in>",
                                      "function": "sleep",
                                      "is_application_code": false,
                                      "line_no": 0,
                                      "time": 0.813155
                                     },
                                     {
                                      "await_time": 0,
                                      "children": [
                                       {
                                        "await_time": 0,
                                        "children": [],
                                        "file_path": "<built-in>",
                                        "file_path_short": "<built-in>",
                                        "function": "sleep",
                                        "is_application_code": false,
                                        "line_no": 0,
                                        "time": 0.107047
                                       }
                                      ],
                                      "file_path": "/var/folders/nr/rds9xrgx3dq8sp5f1vd4nrxm0000gn/T/ipykernel_6875/27809492.py",
                                      "file_path_short": "../../../../var/folders/nr/rds9xrgx3dq8sp5f1vd4nrxm0000gn/T/ipykernel_6875/27809492.py",
                                      "function": "fib",
                                      "is_application_code": true,
                                      "line_no": 3,
                                      "time": 0.107047
                                     }
                                    ],
                                    "file_path": "/var/folders/nr/rds9xrgx3dq8sp5f1vd4nrxm0000gn/T/ipykernel_6875/27809492.py",
                                    "file_path_short": "../../../../var/folders/nr/rds9xrgx3dq8sp5f1vd4nrxm0000gn/T/ipykernel_6875/27809492.py",
                                    "function": "fib",
                                    "is_application_code": true,
                                    "line_no": 3,
                                    "time": 0.920201
                                   }
                                  ],
                                  "file_path": "/var/folders/nr/rds9xrgx3dq8sp5f1vd4nrxm0000gn/T/ipykernel_6875/27809492.py",
                                  "file_path_short": "../../../../var/folders/nr/rds9xrgx3dq8sp5f1vd4nrxm0000gn/T/ipykernel_6875/27809492.py",
                                  "function": "fib",
                                  "is_application_code": true,
                                  "line_no": 3,
                                  "time": 2.866704
                                 },
                                 {
                                  "await_time": 0,
                                  "children": [],
                                  "file_path": "<built-in>",
                                  "file_path_short": "<built-in>",
                                  "function": "sleep",
                                  "is_application_code": false,
                                  "line_no": 0,
                                  "time": 1.612178
                                 }
                                ],
                                "file_path": "/var/folders/nr/rds9xrgx3dq8sp5f1vd4nrxm0000gn/T/ipykernel_6875/27809492.py",
                                "file_path_short": "../../../../var/folders/nr/rds9xrgx3dq8sp5f1vd4nrxm0000gn/T/ipykernel_6875/27809492.py",
                                "function": "fib",
                                "is_application_code": true,
                                "line_no": 3,
                                "time": 4.478882
                               },
                               {
                                "await_time": 0,
                                "children": [],
                                "file_path": "<built-in>",
                                "file_path_short": "<built-in>",
                                "function": "sleep",
                                "is_application_code": false,
                                "line_no": 0,
                                "time": 0.318201
                               }
                              ],
                              "file_path": "/var/folders/nr/rds9xrgx3dq8sp5f1vd4nrxm0000gn/T/ipykernel_6875/27809492.py",
                              "file_path_short": "../../../../var/folders/nr/rds9xrgx3dq8sp5f1vd4nrxm0000gn/T/ipykernel_6875/27809492.py",
                              "function": "fib",
                              "is_application_code": true,
                              "line_no": 3,
                              "time": 4.797083
                             }
                            ],
                            "file_path": "/var/folders/nr/rds9xrgx3dq8sp5f1vd4nrxm0000gn/T/ipykernel_6875/27809492.py",
                            "file_path_short": "../../../../var/folders/nr/rds9xrgx3dq8sp5f1vd4nrxm0000gn/T/ipykernel_6875/27809492.py",
                            "function": "fib",
                            "is_application_code": true,
                            "line_no": 3,
                            "time": 4.797083
                           }
                          ],
                          "file_path": "/var/folders/nr/rds9xrgx3dq8sp5f1vd4nrxm0000gn/T/ipykernel_6875/27809492.py",
                          "file_path_short": "../../../../var/folders/nr/rds9xrgx3dq8sp5f1vd4nrxm0000gn/T/ipykernel_6875/27809492.py",
                          "function": "fib",
                          "is_application_code": true,
                          "line_no": 3,
                          "time": 4.797083
                         }
                        ],
                        "file_path": "/var/folders/nr/rds9xrgx3dq8sp5f1vd4nrxm0000gn/T/ipykernel_6875/27809492.py",
                        "file_path_short": "../../../../var/folders/nr/rds9xrgx3dq8sp5f1vd4nrxm0000gn/T/ipykernel_6875/27809492.py",
                        "function": "fib",
                        "is_application_code": true,
                        "line_no": 3,
                        "time": 4.797083
                       }
                      ],
                      "file_path": "/var/folders/nr/rds9xrgx3dq8sp5f1vd4nrxm0000gn/T/ipykernel_6875/27809492.py",
                      "file_path_short": "../../../../var/folders/nr/rds9xrgx3dq8sp5f1vd4nrxm0000gn/T/ipykernel_6875/27809492.py",
                      "function": "fib",
                      "is_application_code": true,
                      "line_no": 3,
                      "time": 4.797083
                     }
                    ],
                    "file_path": "/var/folders/nr/rds9xrgx3dq8sp5f1vd4nrxm0000gn/T/ipykernel_6875/27809492.py",
                    "file_path_short": "../../../../var/folders/nr/rds9xrgx3dq8sp5f1vd4nrxm0000gn/T/ipykernel_6875/27809492.py",
                    "function": "fib",
                    "is_application_code": true,
                    "line_no": 3,
                    "time": 4.797083
                   }
                  ],
                  "file_path": "/var/folders/nr/rds9xrgx3dq8sp5f1vd4nrxm0000gn/T/ipykernel_6875/27809492.py",
                  "file_path_short": "../../../../var/folders/nr/rds9xrgx3dq8sp5f1vd4nrxm0000gn/T/ipykernel_6875/27809492.py",
                  "function": "<module>",
                  "is_application_code": true,
                  "line_no": 1,
                  "time": 4.808537
                 },
                 {
                  "await_time": 0,
                  "children": [
                   {
                    "await_time": 0,
                    "children": [],
                    "file_path": "<built-in>",
                    "file_path_short": "<built-in>",
                    "function": "RandomState.rand",
                    "is_application_code": false,
                    "line_no": 0,
                    "time": 0.312009
                   },
                   {
                    "await_time": 0,
                    "children": [
                     {
                      "await_time": 0,
                      "children": [],
                      "file_path": "/Users/kylekelley/.pyenv/versions/miniconda3-latest/lib/python3.11/site-packages/numpy/core/__init__.py",
                      "file_path_short": "numpy/core/__init__.py",
                      "function": "<module>",
                      "group_id": "bbdbb928-b5ad-41af-a258-900e9b4f4a83",
                      "is_application_code": false,
                      "line_no": 1,
                      "time": 0.110544
                     },
                     {
                      "await_time": 0,
                      "children": [],
                      "file_path": "/Users/kylekelley/.pyenv/versions/miniconda3-latest/lib/python3.11/site-packages/numpy/lib/__init__.py",
                      "file_path_short": "numpy/lib/__init__.py",
                      "function": "<module>",
                      "group_id": "bbdbb928-b5ad-41af-a258-900e9b4f4a83",
                      "is_application_code": false,
                      "line_no": 1,
                      "time": 0.107331
                     }
                    ],
                    "file_path": "/Users/kylekelley/.pyenv/versions/miniconda3-latest/lib/python3.11/site-packages/numpy/__init__.py",
                    "file_path_short": "numpy/__init__.py",
                    "function": "<module>",
                    "group_id": "bbdbb928-b5ad-41af-a258-900e9b4f4a83",
                    "is_application_code": false,
                    "line_no": 1,
                    "time": 0.281208
                   }
                  ],
                  "file_path": "/var/folders/nr/rds9xrgx3dq8sp5f1vd4nrxm0000gn/T/ipykernel_6875/1470982319.py",
                  "file_path_short": "../../../../var/folders/nr/rds9xrgx3dq8sp5f1vd4nrxm0000gn/T/ipykernel_6875/1470982319.py",
                  "function": "<module>",
                  "is_application_code": true,
                  "line_no": 1,
                  "time": 0.594223
                 }
                ],
                "class_name": "ZMQInteractiveShell",
                "file_path": "/Users/kylekelley/.pyenv/versions/miniconda3-latest/lib/python3.11/site-packages/IPython/core/interactiveshell.py",
                "file_path_short": "IPython/core/interactiveshell.py",
                "function": "run_ast_nodes",
                "group_id": "a43f2571-3d48-4ac7-9a1f-77dd5c2017db",
                "is_application_code": false,
                "line_no": 3418,
                "time": 5.417807
               }
              ],
              "class_name": "ZMQInteractiveShell",
              "file_path": "/Users/kylekelley/.pyenv/versions/miniconda3-latest/lib/python3.11/site-packages/IPython/core/interactiveshell.py",
              "file_path_short": "IPython/core/interactiveshell.py",
              "function": "run_cell_async",
              "group_id": "a43f2571-3d48-4ac7-9a1f-77dd5c2017db",
              "is_application_code": false,
              "line_no": 3183,
              "time": 5.417807
             }
            ],
            "file_path": "/Users/kylekelley/.pyenv/versions/miniconda3-latest/lib/python3.11/site-packages/IPython/core/async_helpers.py",
            "file_path_short": "IPython/core/async_helpers.py",
            "function": "_pseudo_sync_runner",
            "group_id": "a43f2571-3d48-4ac7-9a1f-77dd5c2017db",
            "is_application_code": false,
            "line_no": 120,
            "time": 5.417807
           }
          ],
          "class_name": "ZMQInteractiveShell",
          "file_path": "/Users/kylekelley/.pyenv/versions/miniconda3-latest/lib/python3.11/site-packages/IPython/core/interactiveshell.py",
          "file_path_short": "IPython/core/interactiveshell.py",
          "function": "_run_cell",
          "group_id": "a43f2571-3d48-4ac7-9a1f-77dd5c2017db",
          "is_application_code": false,
          "line_no": 3084,
          "time": 5.417807
         }
        ],
        "class_name": "ZMQInteractiveShell",
        "file_path": "/Users/kylekelley/.pyenv/versions/miniconda3-latest/lib/python3.11/site-packages/IPython/core/interactiveshell.py",
        "file_path_short": "IPython/core/interactiveshell.py",
        "function": "run_cell",
        "is_application_code": false,
        "line_no": 3042,
        "time": 5.418848
       },
       "sample_count": 326,
       "start_time": 1724274535.77826,
       "target_description": "Profile at /Users/kylekelley/code/src/github.com/AlbertDeFusco/jupyterlab-execute-time/miniprofiler.py:31"
      },
      "text/plain": [
       "<IPython.core.display.JSON object>"
      ]
     },
     "metadata": {
      "application/json": {
       "expanded": false,
       "root": "root"
      }
     },
     "output_type": "display_data"
    },
    {
     "data": {
      "application/vnd.miniprof+json": {
       "cpu_time": 4.420747,
       "duration": 5.420064,
       "memory_usage": -799834112,
       "root_frame": {
        "await_time": 0,
        "children": [
         {
          "await_time": 0,
          "children": [
           {
            "await_time": 0,
            "children": [
             {
              "await_time": 0,
              "children": [
               {
                "await_time": 0,
                "children": [
                 {
                  "await_time": 0,
                  "children": [
                   {
                    "await_time": 0,
                    "children": [
                     {
                      "await_time": 0,
                      "children": [
                       {
                        "await_time": 0,
                        "children": [
                         {
                          "await_time": 0,
                          "children": [
                           {
                            "await_time": 0,
                            "children": [
                             {
                              "await_time": 0,
                              "children": [
                               {
                                "await_time": 0,
                                "children": [
                                 {
                                  "await_time": 0,
                                  "children": [
                                   {
                                    "await_time": 0,
                                    "children": [],
                                    "file_path": "<built-in>",
                                    "file_path_short": "<built-in>",
                                    "function": "sleep",
                                    "is_application_code": false,
                                    "line_no": 0,
                                    "time": 1.945191
                                   },
                                   {
                                    "await_time": 0,
                                    "children": [
                                     {
                                      "await_time": 0,
                                      "children": [],
                                      "file_path": "<built-in>",
                                      "file_path_short": "<built-in>",
                                      "function": "sleep",
                                      "is_application_code": false,
                                      "line_no": 0,
                                      "time": 0.813155
                                     },
                                     {
                                      "await_time": 0,
                                      "children": [
                                       {
                                        "await_time": 0,
                                        "children": [],
                                        "file_path": "<built-in>",
                                        "file_path_short": "<built-in>",
                                        "function": "sleep",
                                        "is_application_code": false,
                                        "line_no": 0,
                                        "time": 0.107047
                                       }
                                      ],
                                      "file_path": "/var/folders/nr/rds9xrgx3dq8sp5f1vd4nrxm0000gn/T/ipykernel_6875/27809492.py",
                                      "file_path_short": "../../../../var/folders/nr/rds9xrgx3dq8sp5f1vd4nrxm0000gn/T/ipykernel_6875/27809492.py",
                                      "function": "fib",
                                      "is_application_code": true,
                                      "line_no": 3,
                                      "time": 0.107047
                                     }
                                    ],
                                    "file_path": "/var/folders/nr/rds9xrgx3dq8sp5f1vd4nrxm0000gn/T/ipykernel_6875/27809492.py",
                                    "file_path_short": "../../../../var/folders/nr/rds9xrgx3dq8sp5f1vd4nrxm0000gn/T/ipykernel_6875/27809492.py",
                                    "function": "fib",
                                    "is_application_code": true,
                                    "line_no": 3,
                                    "time": 0.920201
                                   }
                                  ],
                                  "file_path": "/var/folders/nr/rds9xrgx3dq8sp5f1vd4nrxm0000gn/T/ipykernel_6875/27809492.py",
                                  "file_path_short": "../../../../var/folders/nr/rds9xrgx3dq8sp5f1vd4nrxm0000gn/T/ipykernel_6875/27809492.py",
                                  "function": "fib",
                                  "is_application_code": true,
                                  "line_no": 3,
                                  "time": 2.866704
                                 },
                                 {
                                  "await_time": 0,
                                  "children": [],
                                  "file_path": "<built-in>",
                                  "file_path_short": "<built-in>",
                                  "function": "sleep",
                                  "is_application_code": false,
                                  "line_no": 0,
                                  "time": 1.612178
                                 }
                                ],
                                "file_path": "/var/folders/nr/rds9xrgx3dq8sp5f1vd4nrxm0000gn/T/ipykernel_6875/27809492.py",
                                "file_path_short": "../../../../var/folders/nr/rds9xrgx3dq8sp5f1vd4nrxm0000gn/T/ipykernel_6875/27809492.py",
                                "function": "fib",
                                "is_application_code": true,
                                "line_no": 3,
                                "time": 4.478882
                               },
                               {
                                "await_time": 0,
                                "children": [],
                                "file_path": "<built-in>",
                                "file_path_short": "<built-in>",
                                "function": "sleep",
                                "is_application_code": false,
                                "line_no": 0,
                                "time": 0.318201
                               }
                              ],
                              "file_path": "/var/folders/nr/rds9xrgx3dq8sp5f1vd4nrxm0000gn/T/ipykernel_6875/27809492.py",
                              "file_path_short": "../../../../var/folders/nr/rds9xrgx3dq8sp5f1vd4nrxm0000gn/T/ipykernel_6875/27809492.py",
                              "function": "fib",
                              "is_application_code": true,
                              "line_no": 3,
                              "time": 4.797083
                             }
                            ],
                            "file_path": "/var/folders/nr/rds9xrgx3dq8sp5f1vd4nrxm0000gn/T/ipykernel_6875/27809492.py",
                            "file_path_short": "../../../../var/folders/nr/rds9xrgx3dq8sp5f1vd4nrxm0000gn/T/ipykernel_6875/27809492.py",
                            "function": "fib",
                            "is_application_code": true,
                            "line_no": 3,
                            "time": 4.797083
                           }
                          ],
                          "file_path": "/var/folders/nr/rds9xrgx3dq8sp5f1vd4nrxm0000gn/T/ipykernel_6875/27809492.py",
                          "file_path_short": "../../../../var/folders/nr/rds9xrgx3dq8sp5f1vd4nrxm0000gn/T/ipykernel_6875/27809492.py",
                          "function": "fib",
                          "is_application_code": true,
                          "line_no": 3,
                          "time": 4.797083
                         }
                        ],
                        "file_path": "/var/folders/nr/rds9xrgx3dq8sp5f1vd4nrxm0000gn/T/ipykernel_6875/27809492.py",
                        "file_path_short": "../../../../var/folders/nr/rds9xrgx3dq8sp5f1vd4nrxm0000gn/T/ipykernel_6875/27809492.py",
                        "function": "fib",
                        "is_application_code": true,
                        "line_no": 3,
                        "time": 4.797083
                       }
                      ],
                      "file_path": "/var/folders/nr/rds9xrgx3dq8sp5f1vd4nrxm0000gn/T/ipykernel_6875/27809492.py",
                      "file_path_short": "../../../../var/folders/nr/rds9xrgx3dq8sp5f1vd4nrxm0000gn/T/ipykernel_6875/27809492.py",
                      "function": "fib",
                      "is_application_code": true,
                      "line_no": 3,
                      "time": 4.797083
                     }
                    ],
                    "file_path": "/var/folders/nr/rds9xrgx3dq8sp5f1vd4nrxm0000gn/T/ipykernel_6875/27809492.py",
                    "file_path_short": "../../../../var/folders/nr/rds9xrgx3dq8sp5f1vd4nrxm0000gn/T/ipykernel_6875/27809492.py",
                    "function": "fib",
                    "is_application_code": true,
                    "line_no": 3,
                    "time": 4.797083
                   }
                  ],
                  "file_path": "/var/folders/nr/rds9xrgx3dq8sp5f1vd4nrxm0000gn/T/ipykernel_6875/27809492.py",
                  "file_path_short": "../../../../var/folders/nr/rds9xrgx3dq8sp5f1vd4nrxm0000gn/T/ipykernel_6875/27809492.py",
                  "function": "<module>",
                  "is_application_code": true,
                  "line_no": 1,
                  "time": 4.808537
                 },
                 {
                  "await_time": 0,
                  "children": [
                   {
                    "await_time": 0,
                    "children": [],
                    "file_path": "<built-in>",
                    "file_path_short": "<built-in>",
                    "function": "RandomState.rand",
                    "is_application_code": false,
                    "line_no": 0,
                    "time": 0.312009
                   },
                   {
                    "await_time": 0,
                    "children": [
                     {
                      "await_time": 0,
                      "children": [],
                      "file_path": "/Users/kylekelley/.pyenv/versions/miniconda3-latest/lib/python3.11/site-packages/numpy/core/__init__.py",
                      "file_path_short": "numpy/core/__init__.py",
                      "function": "<module>",
                      "group_id": "bbdbb928-b5ad-41af-a258-900e9b4f4a83",
                      "is_application_code": false,
                      "line_no": 1,
                      "time": 0.110544
                     },
                     {
                      "await_time": 0,
                      "children": [],
                      "file_path": "/Users/kylekelley/.pyenv/versions/miniconda3-latest/lib/python3.11/site-packages/numpy/lib/__init__.py",
                      "file_path_short": "numpy/lib/__init__.py",
                      "function": "<module>",
                      "group_id": "bbdbb928-b5ad-41af-a258-900e9b4f4a83",
                      "is_application_code": false,
                      "line_no": 1,
                      "time": 0.107331
                     }
                    ],
                    "file_path": "/Users/kylekelley/.pyenv/versions/miniconda3-latest/lib/python3.11/site-packages/numpy/__init__.py",
                    "file_path_short": "numpy/__init__.py",
                    "function": "<module>",
                    "group_id": "bbdbb928-b5ad-41af-a258-900e9b4f4a83",
                    "is_application_code": false,
                    "line_no": 1,
                    "time": 0.281208
                   }
                  ],
                  "file_path": "/var/folders/nr/rds9xrgx3dq8sp5f1vd4nrxm0000gn/T/ipykernel_6875/1470982319.py",
                  "file_path_short": "../../../../var/folders/nr/rds9xrgx3dq8sp5f1vd4nrxm0000gn/T/ipykernel_6875/1470982319.py",
                  "function": "<module>",
                  "is_application_code": true,
                  "line_no": 1,
                  "time": 0.594223
                 }
                ],
                "class_name": "ZMQInteractiveShell",
                "file_path": "/Users/kylekelley/.pyenv/versions/miniconda3-latest/lib/python3.11/site-packages/IPython/core/interactiveshell.py",
                "file_path_short": "IPython/core/interactiveshell.py",
                "function": "run_ast_nodes",
                "group_id": "a43f2571-3d48-4ac7-9a1f-77dd5c2017db",
                "is_application_code": false,
                "line_no": 3418,
                "time": 5.417807
               }
              ],
              "class_name": "ZMQInteractiveShell",
              "file_path": "/Users/kylekelley/.pyenv/versions/miniconda3-latest/lib/python3.11/site-packages/IPython/core/interactiveshell.py",
              "file_path_short": "IPython/core/interactiveshell.py",
              "function": "run_cell_async",
              "group_id": "a43f2571-3d48-4ac7-9a1f-77dd5c2017db",
              "is_application_code": false,
              "line_no": 3183,
              "time": 5.417807
             }
            ],
            "file_path": "/Users/kylekelley/.pyenv/versions/miniconda3-latest/lib/python3.11/site-packages/IPython/core/async_helpers.py",
            "file_path_short": "IPython/core/async_helpers.py",
            "function": "_pseudo_sync_runner",
            "group_id": "a43f2571-3d48-4ac7-9a1f-77dd5c2017db",
            "is_application_code": false,
            "line_no": 120,
            "time": 5.417807
           }
          ],
          "class_name": "ZMQInteractiveShell",
          "file_path": "/Users/kylekelley/.pyenv/versions/miniconda3-latest/lib/python3.11/site-packages/IPython/core/interactiveshell.py",
          "file_path_short": "IPython/core/interactiveshell.py",
          "function": "_run_cell",
          "group_id": "a43f2571-3d48-4ac7-9a1f-77dd5c2017db",
          "is_application_code": false,
          "line_no": 3084,
          "time": 5.417807
         }
        ],
        "class_name": "ZMQInteractiveShell",
        "file_path": "/Users/kylekelley/.pyenv/versions/miniconda3-latest/lib/python3.11/site-packages/IPython/core/interactiveshell.py",
        "file_path_short": "IPython/core/interactiveshell.py",
        "function": "run_cell",
        "is_application_code": false,
        "line_no": 3042,
        "time": 5.418848
       },
       "sample_count": 326,
       "start_time": 1724274535.77826,
       "target_description": "Profile at /Users/kylekelley/code/src/github.com/AlbertDeFusco/jupyterlab-execute-time/miniprofiler.py:31"
      }
     },
     "metadata": {},
     "output_type": "display_data"
    }
   ],
   "source": [
    "# Delete the large array\n",
    "del large_array"
   ]
  },
  {
   "cell_type": "code",
   "execution_count": 6,
   "metadata": {},
   "outputs": [
    {
     "data": {
      "text/plain": [
       "1542"
      ]
     },
     "execution_count": 6,
     "metadata": {},
     "output_type": "execute_result"
    },
    {
     "data": {
      "application/json": {
       "cpu_time": 4.436094,
       "duration": 5.434911,
       "memory_usage": 16384,
       "root_frame": {
        "await_time": 0,
        "children": [
         {
          "await_time": 0,
          "children": [
           {
            "await_time": 0,
            "children": [
             {
              "await_time": 0,
              "children": [
               {
                "await_time": 0,
                "children": [
                 {
                  "await_time": 0,
                  "children": [
                   {
                    "await_time": 0,
                    "children": [
                     {
                      "await_time": 0,
                      "children": [
                       {
                        "await_time": 0,
                        "children": [
                         {
                          "await_time": 0,
                          "children": [
                           {
                            "await_time": 0,
                            "children": [
                             {
                              "await_time": 0,
                              "children": [
                               {
                                "await_time": 0,
                                "children": [
                                 {
                                  "await_time": 0,
                                  "children": [
                                   {
                                    "await_time": 0,
                                    "children": [],
                                    "file_path": "<built-in>",
                                    "file_path_short": "<built-in>",
                                    "function": "sleep",
                                    "is_application_code": false,
                                    "line_no": 0,
                                    "time": 1.945191
                                   },
                                   {
                                    "await_time": 0,
                                    "children": [
                                     {
                                      "await_time": 0,
                                      "children": [],
                                      "file_path": "<built-in>",
                                      "file_path_short": "<built-in>",
                                      "function": "sleep",
                                      "is_application_code": false,
                                      "line_no": 0,
                                      "time": 0.813155
                                     },
                                     {
                                      "await_time": 0,
                                      "children": [
                                       {
                                        "await_time": 0,
                                        "children": [],
                                        "file_path": "<built-in>",
                                        "file_path_short": "<built-in>",
                                        "function": "sleep",
                                        "is_application_code": false,
                                        "line_no": 0,
                                        "time": 0.107047
                                       }
                                      ],
                                      "file_path": "/var/folders/nr/rds9xrgx3dq8sp5f1vd4nrxm0000gn/T/ipykernel_6875/27809492.py",
                                      "file_path_short": "../../../../var/folders/nr/rds9xrgx3dq8sp5f1vd4nrxm0000gn/T/ipykernel_6875/27809492.py",
                                      "function": "fib",
                                      "is_application_code": true,
                                      "line_no": 3,
                                      "time": 0.107047
                                     }
                                    ],
                                    "file_path": "/var/folders/nr/rds9xrgx3dq8sp5f1vd4nrxm0000gn/T/ipykernel_6875/27809492.py",
                                    "file_path_short": "../../../../var/folders/nr/rds9xrgx3dq8sp5f1vd4nrxm0000gn/T/ipykernel_6875/27809492.py",
                                    "function": "fib",
                                    "is_application_code": true,
                                    "line_no": 3,
                                    "time": 0.920201
                                   }
                                  ],
                                  "file_path": "/var/folders/nr/rds9xrgx3dq8sp5f1vd4nrxm0000gn/T/ipykernel_6875/27809492.py",
                                  "file_path_short": "../../../../var/folders/nr/rds9xrgx3dq8sp5f1vd4nrxm0000gn/T/ipykernel_6875/27809492.py",
                                  "function": "fib",
                                  "is_application_code": true,
                                  "line_no": 3,
                                  "time": 2.866704
                                 },
                                 {
                                  "await_time": 0,
                                  "children": [],
                                  "file_path": "<built-in>",
                                  "file_path_short": "<built-in>",
                                  "function": "sleep",
                                  "is_application_code": false,
                                  "line_no": 0,
                                  "time": 1.612178
                                 }
                                ],
                                "file_path": "/var/folders/nr/rds9xrgx3dq8sp5f1vd4nrxm0000gn/T/ipykernel_6875/27809492.py",
                                "file_path_short": "../../../../var/folders/nr/rds9xrgx3dq8sp5f1vd4nrxm0000gn/T/ipykernel_6875/27809492.py",
                                "function": "fib",
                                "is_application_code": true,
                                "line_no": 3,
                                "time": 4.478882
                               },
                               {
                                "await_time": 0,
                                "children": [],
                                "file_path": "<built-in>",
                                "file_path_short": "<built-in>",
                                "function": "sleep",
                                "is_application_code": false,
                                "line_no": 0,
                                "time": 0.318201
                               }
                              ],
                              "file_path": "/var/folders/nr/rds9xrgx3dq8sp5f1vd4nrxm0000gn/T/ipykernel_6875/27809492.py",
                              "file_path_short": "../../../../var/folders/nr/rds9xrgx3dq8sp5f1vd4nrxm0000gn/T/ipykernel_6875/27809492.py",
                              "function": "fib",
                              "is_application_code": true,
                              "line_no": 3,
                              "time": 4.797083
                             }
                            ],
                            "file_path": "/var/folders/nr/rds9xrgx3dq8sp5f1vd4nrxm0000gn/T/ipykernel_6875/27809492.py",
                            "file_path_short": "../../../../var/folders/nr/rds9xrgx3dq8sp5f1vd4nrxm0000gn/T/ipykernel_6875/27809492.py",
                            "function": "fib",
                            "is_application_code": true,
                            "line_no": 3,
                            "time": 4.797083
                           }
                          ],
                          "file_path": "/var/folders/nr/rds9xrgx3dq8sp5f1vd4nrxm0000gn/T/ipykernel_6875/27809492.py",
                          "file_path_short": "../../../../var/folders/nr/rds9xrgx3dq8sp5f1vd4nrxm0000gn/T/ipykernel_6875/27809492.py",
                          "function": "fib",
                          "is_application_code": true,
                          "line_no": 3,
                          "time": 4.797083
                         }
                        ],
                        "file_path": "/var/folders/nr/rds9xrgx3dq8sp5f1vd4nrxm0000gn/T/ipykernel_6875/27809492.py",
                        "file_path_short": "../../../../var/folders/nr/rds9xrgx3dq8sp5f1vd4nrxm0000gn/T/ipykernel_6875/27809492.py",
                        "function": "fib",
                        "is_application_code": true,
                        "line_no": 3,
                        "time": 4.797083
                       }
                      ],
                      "file_path": "/var/folders/nr/rds9xrgx3dq8sp5f1vd4nrxm0000gn/T/ipykernel_6875/27809492.py",
                      "file_path_short": "../../../../var/folders/nr/rds9xrgx3dq8sp5f1vd4nrxm0000gn/T/ipykernel_6875/27809492.py",
                      "function": "fib",
                      "is_application_code": true,
                      "line_no": 3,
                      "time": 4.797083
                     }
                    ],
                    "file_path": "/var/folders/nr/rds9xrgx3dq8sp5f1vd4nrxm0000gn/T/ipykernel_6875/27809492.py",
                    "file_path_short": "../../../../var/folders/nr/rds9xrgx3dq8sp5f1vd4nrxm0000gn/T/ipykernel_6875/27809492.py",
                    "function": "fib",
                    "is_application_code": true,
                    "line_no": 3,
                    "time": 4.797083
                   }
                  ],
                  "file_path": "/var/folders/nr/rds9xrgx3dq8sp5f1vd4nrxm0000gn/T/ipykernel_6875/27809492.py",
                  "file_path_short": "../../../../var/folders/nr/rds9xrgx3dq8sp5f1vd4nrxm0000gn/T/ipykernel_6875/27809492.py",
                  "function": "<module>",
                  "is_application_code": true,
                  "line_no": 1,
                  "time": 4.808537
                 },
                 {
                  "await_time": 0,
                  "children": [
                   {
                    "await_time": 0,
                    "children": [],
                    "file_path": "<built-in>",
                    "file_path_short": "<built-in>",
                    "function": "RandomState.rand",
                    "is_application_code": false,
                    "line_no": 0,
                    "time": 0.312009
                   },
                   {
                    "await_time": 0,
                    "children": [
                     {
                      "await_time": 0,
                      "children": [],
                      "file_path": "/Users/kylekelley/.pyenv/versions/miniconda3-latest/lib/python3.11/site-packages/numpy/core/__init__.py",
                      "file_path_short": "numpy/core/__init__.py",
                      "function": "<module>",
                      "group_id": "3053f5f4-54d3-4aca-8e2f-8c154b87c64e",
                      "is_application_code": false,
                      "line_no": 1,
                      "time": 0.110544
                     },
                     {
                      "await_time": 0,
                      "children": [],
                      "file_path": "/Users/kylekelley/.pyenv/versions/miniconda3-latest/lib/python3.11/site-packages/numpy/lib/__init__.py",
                      "file_path_short": "numpy/lib/__init__.py",
                      "function": "<module>",
                      "group_id": "3053f5f4-54d3-4aca-8e2f-8c154b87c64e",
                      "is_application_code": false,
                      "line_no": 1,
                      "time": 0.107331
                     }
                    ],
                    "file_path": "/Users/kylekelley/.pyenv/versions/miniconda3-latest/lib/python3.11/site-packages/numpy/__init__.py",
                    "file_path_short": "numpy/__init__.py",
                    "function": "<module>",
                    "group_id": "3053f5f4-54d3-4aca-8e2f-8c154b87c64e",
                    "is_application_code": false,
                    "line_no": 1,
                    "time": 0.281208
                   }
                  ],
                  "file_path": "/var/folders/nr/rds9xrgx3dq8sp5f1vd4nrxm0000gn/T/ipykernel_6875/1470982319.py",
                  "file_path_short": "../../../../var/folders/nr/rds9xrgx3dq8sp5f1vd4nrxm0000gn/T/ipykernel_6875/1470982319.py",
                  "function": "<module>",
                  "is_application_code": true,
                  "line_no": 1,
                  "time": 0.594223
                 }
                ],
                "class_name": "ZMQInteractiveShell",
                "file_path": "/Users/kylekelley/.pyenv/versions/miniconda3-latest/lib/python3.11/site-packages/IPython/core/interactiveshell.py",
                "file_path_short": "IPython/core/interactiveshell.py",
                "function": "run_ast_nodes",
                "group_id": "4ce5ff54-5309-4fe2-9856-1cee752f60c2",
                "is_application_code": false,
                "line_no": 3418,
                "time": 5.432222
               }
              ],
              "class_name": "ZMQInteractiveShell",
              "file_path": "/Users/kylekelley/.pyenv/versions/miniconda3-latest/lib/python3.11/site-packages/IPython/core/interactiveshell.py",
              "file_path_short": "IPython/core/interactiveshell.py",
              "function": "run_cell_async",
              "group_id": "4ce5ff54-5309-4fe2-9856-1cee752f60c2",
              "is_application_code": false,
              "line_no": 3183,
              "time": 5.432222
             }
            ],
            "file_path": "/Users/kylekelley/.pyenv/versions/miniconda3-latest/lib/python3.11/site-packages/IPython/core/async_helpers.py",
            "file_path_short": "IPython/core/async_helpers.py",
            "function": "_pseudo_sync_runner",
            "group_id": "4ce5ff54-5309-4fe2-9856-1cee752f60c2",
            "is_application_code": false,
            "line_no": 120,
            "time": 5.432222
           }
          ],
          "class_name": "ZMQInteractiveShell",
          "file_path": "/Users/kylekelley/.pyenv/versions/miniconda3-latest/lib/python3.11/site-packages/IPython/core/interactiveshell.py",
          "file_path_short": "IPython/core/interactiveshell.py",
          "function": "_run_cell",
          "group_id": "4ce5ff54-5309-4fe2-9856-1cee752f60c2",
          "is_application_code": false,
          "line_no": 3084,
          "time": 5.432222
         }
        ],
        "class_name": "ZMQInteractiveShell",
        "file_path": "/Users/kylekelley/.pyenv/versions/miniconda3-latest/lib/python3.11/site-packages/IPython/core/interactiveshell.py",
        "file_path_short": "IPython/core/interactiveshell.py",
        "function": "run_cell",
        "is_application_code": false,
        "line_no": 3042,
        "time": 5.433263
       },
       "sample_count": 328,
       "start_time": 1724274535.77826,
       "target_description": "Profile at /Users/kylekelley/code/src/github.com/AlbertDeFusco/jupyterlab-execute-time/miniprofiler.py:31"
      },
      "text/plain": [
       "<IPython.core.display.JSON object>"
      ]
     },
     "metadata": {
      "application/json": {
       "expanded": false,
       "root": "root"
      }
     },
     "output_type": "display_data"
    },
    {
     "data": {
      "application/vnd.miniprof+json": {
       "cpu_time": 4.436094,
       "duration": 5.434911,
       "memory_usage": 16384,
       "root_frame": {
        "await_time": 0,
        "children": [
         {
          "await_time": 0,
          "children": [
           {
            "await_time": 0,
            "children": [
             {
              "await_time": 0,
              "children": [
               {
                "await_time": 0,
                "children": [
                 {
                  "await_time": 0,
                  "children": [
                   {
                    "await_time": 0,
                    "children": [
                     {
                      "await_time": 0,
                      "children": [
                       {
                        "await_time": 0,
                        "children": [
                         {
                          "await_time": 0,
                          "children": [
                           {
                            "await_time": 0,
                            "children": [
                             {
                              "await_time": 0,
                              "children": [
                               {
                                "await_time": 0,
                                "children": [
                                 {
                                  "await_time": 0,
                                  "children": [
                                   {
                                    "await_time": 0,
                                    "children": [],
                                    "file_path": "<built-in>",
                                    "file_path_short": "<built-in>",
                                    "function": "sleep",
                                    "is_application_code": false,
                                    "line_no": 0,
                                    "time": 1.945191
                                   },
                                   {
                                    "await_time": 0,
                                    "children": [
                                     {
                                      "await_time": 0,
                                      "children": [],
                                      "file_path": "<built-in>",
                                      "file_path_short": "<built-in>",
                                      "function": "sleep",
                                      "is_application_code": false,
                                      "line_no": 0,
                                      "time": 0.813155
                                     },
                                     {
                                      "await_time": 0,
                                      "children": [
                                       {
                                        "await_time": 0,
                                        "children": [],
                                        "file_path": "<built-in>",
                                        "file_path_short": "<built-in>",
                                        "function": "sleep",
                                        "is_application_code": false,
                                        "line_no": 0,
                                        "time": 0.107047
                                       }
                                      ],
                                      "file_path": "/var/folders/nr/rds9xrgx3dq8sp5f1vd4nrxm0000gn/T/ipykernel_6875/27809492.py",
                                      "file_path_short": "../../../../var/folders/nr/rds9xrgx3dq8sp5f1vd4nrxm0000gn/T/ipykernel_6875/27809492.py",
                                      "function": "fib",
                                      "is_application_code": true,
                                      "line_no": 3,
                                      "time": 0.107047
                                     }
                                    ],
                                    "file_path": "/var/folders/nr/rds9xrgx3dq8sp5f1vd4nrxm0000gn/T/ipykernel_6875/27809492.py",
                                    "file_path_short": "../../../../var/folders/nr/rds9xrgx3dq8sp5f1vd4nrxm0000gn/T/ipykernel_6875/27809492.py",
                                    "function": "fib",
                                    "is_application_code": true,
                                    "line_no": 3,
                                    "time": 0.920201
                                   }
                                  ],
                                  "file_path": "/var/folders/nr/rds9xrgx3dq8sp5f1vd4nrxm0000gn/T/ipykernel_6875/27809492.py",
                                  "file_path_short": "../../../../var/folders/nr/rds9xrgx3dq8sp5f1vd4nrxm0000gn/T/ipykernel_6875/27809492.py",
                                  "function": "fib",
                                  "is_application_code": true,
                                  "line_no": 3,
                                  "time": 2.866704
                                 },
                                 {
                                  "await_time": 0,
                                  "children": [],
                                  "file_path": "<built-in>",
                                  "file_path_short": "<built-in>",
                                  "function": "sleep",
                                  "is_application_code": false,
                                  "line_no": 0,
                                  "time": 1.612178
                                 }
                                ],
                                "file_path": "/var/folders/nr/rds9xrgx3dq8sp5f1vd4nrxm0000gn/T/ipykernel_6875/27809492.py",
                                "file_path_short": "../../../../var/folders/nr/rds9xrgx3dq8sp5f1vd4nrxm0000gn/T/ipykernel_6875/27809492.py",
                                "function": "fib",
                                "is_application_code": true,
                                "line_no": 3,
                                "time": 4.478882
                               },
                               {
                                "await_time": 0,
                                "children": [],
                                "file_path": "<built-in>",
                                "file_path_short": "<built-in>",
                                "function": "sleep",
                                "is_application_code": false,
                                "line_no": 0,
                                "time": 0.318201
                               }
                              ],
                              "file_path": "/var/folders/nr/rds9xrgx3dq8sp5f1vd4nrxm0000gn/T/ipykernel_6875/27809492.py",
                              "file_path_short": "../../../../var/folders/nr/rds9xrgx3dq8sp5f1vd4nrxm0000gn/T/ipykernel_6875/27809492.py",
                              "function": "fib",
                              "is_application_code": true,
                              "line_no": 3,
                              "time": 4.797083
                             }
                            ],
                            "file_path": "/var/folders/nr/rds9xrgx3dq8sp5f1vd4nrxm0000gn/T/ipykernel_6875/27809492.py",
                            "file_path_short": "../../../../var/folders/nr/rds9xrgx3dq8sp5f1vd4nrxm0000gn/T/ipykernel_6875/27809492.py",
                            "function": "fib",
                            "is_application_code": true,
                            "line_no": 3,
                            "time": 4.797083
                           }
                          ],
                          "file_path": "/var/folders/nr/rds9xrgx3dq8sp5f1vd4nrxm0000gn/T/ipykernel_6875/27809492.py",
                          "file_path_short": "../../../../var/folders/nr/rds9xrgx3dq8sp5f1vd4nrxm0000gn/T/ipykernel_6875/27809492.py",
                          "function": "fib",
                          "is_application_code": true,
                          "line_no": 3,
                          "time": 4.797083
                         }
                        ],
                        "file_path": "/var/folders/nr/rds9xrgx3dq8sp5f1vd4nrxm0000gn/T/ipykernel_6875/27809492.py",
                        "file_path_short": "../../../../var/folders/nr/rds9xrgx3dq8sp5f1vd4nrxm0000gn/T/ipykernel_6875/27809492.py",
                        "function": "fib",
                        "is_application_code": true,
                        "line_no": 3,
                        "time": 4.797083
                       }
                      ],
                      "file_path": "/var/folders/nr/rds9xrgx3dq8sp5f1vd4nrxm0000gn/T/ipykernel_6875/27809492.py",
                      "file_path_short": "../../../../var/folders/nr/rds9xrgx3dq8sp5f1vd4nrxm0000gn/T/ipykernel_6875/27809492.py",
                      "function": "fib",
                      "is_application_code": true,
                      "line_no": 3,
                      "time": 4.797083
                     }
                    ],
                    "file_path": "/var/folders/nr/rds9xrgx3dq8sp5f1vd4nrxm0000gn/T/ipykernel_6875/27809492.py",
                    "file_path_short": "../../../../var/folders/nr/rds9xrgx3dq8sp5f1vd4nrxm0000gn/T/ipykernel_6875/27809492.py",
                    "function": "fib",
                    "is_application_code": true,
                    "line_no": 3,
                    "time": 4.797083
                   }
                  ],
                  "file_path": "/var/folders/nr/rds9xrgx3dq8sp5f1vd4nrxm0000gn/T/ipykernel_6875/27809492.py",
                  "file_path_short": "../../../../var/folders/nr/rds9xrgx3dq8sp5f1vd4nrxm0000gn/T/ipykernel_6875/27809492.py",
                  "function": "<module>",
                  "is_application_code": true,
                  "line_no": 1,
                  "time": 4.808537
                 },
                 {
                  "await_time": 0,
                  "children": [
                   {
                    "await_time": 0,
                    "children": [],
                    "file_path": "<built-in>",
                    "file_path_short": "<built-in>",
                    "function": "RandomState.rand",
                    "is_application_code": false,
                    "line_no": 0,
                    "time": 0.312009
                   },
                   {
                    "await_time": 0,
                    "children": [
                     {
                      "await_time": 0,
                      "children": [],
                      "file_path": "/Users/kylekelley/.pyenv/versions/miniconda3-latest/lib/python3.11/site-packages/numpy/core/__init__.py",
                      "file_path_short": "numpy/core/__init__.py",
                      "function": "<module>",
                      "group_id": "3053f5f4-54d3-4aca-8e2f-8c154b87c64e",
                      "is_application_code": false,
                      "line_no": 1,
                      "time": 0.110544
                     },
                     {
                      "await_time": 0,
                      "children": [],
                      "file_path": "/Users/kylekelley/.pyenv/versions/miniconda3-latest/lib/python3.11/site-packages/numpy/lib/__init__.py",
                      "file_path_short": "numpy/lib/__init__.py",
                      "function": "<module>",
                      "group_id": "3053f5f4-54d3-4aca-8e2f-8c154b87c64e",
                      "is_application_code": false,
                      "line_no": 1,
                      "time": 0.107331
                     }
                    ],
                    "file_path": "/Users/kylekelley/.pyenv/versions/miniconda3-latest/lib/python3.11/site-packages/numpy/__init__.py",
                    "file_path_short": "numpy/__init__.py",
                    "function": "<module>",
                    "group_id": "3053f5f4-54d3-4aca-8e2f-8c154b87c64e",
                    "is_application_code": false,
                    "line_no": 1,
                    "time": 0.281208
                   }
                  ],
                  "file_path": "/var/folders/nr/rds9xrgx3dq8sp5f1vd4nrxm0000gn/T/ipykernel_6875/1470982319.py",
                  "file_path_short": "../../../../var/folders/nr/rds9xrgx3dq8sp5f1vd4nrxm0000gn/T/ipykernel_6875/1470982319.py",
                  "function": "<module>",
                  "is_application_code": true,
                  "line_no": 1,
                  "time": 0.594223
                 }
                ],
                "class_name": "ZMQInteractiveShell",
                "file_path": "/Users/kylekelley/.pyenv/versions/miniconda3-latest/lib/python3.11/site-packages/IPython/core/interactiveshell.py",
                "file_path_short": "IPython/core/interactiveshell.py",
                "function": "run_ast_nodes",
                "group_id": "4ce5ff54-5309-4fe2-9856-1cee752f60c2",
                "is_application_code": false,
                "line_no": 3418,
                "time": 5.432222
               }
              ],
              "class_name": "ZMQInteractiveShell",
              "file_path": "/Users/kylekelley/.pyenv/versions/miniconda3-latest/lib/python3.11/site-packages/IPython/core/interactiveshell.py",
              "file_path_short": "IPython/core/interactiveshell.py",
              "function": "run_cell_async",
              "group_id": "4ce5ff54-5309-4fe2-9856-1cee752f60c2",
              "is_application_code": false,
              "line_no": 3183,
              "time": 5.432222
             }
            ],
            "file_path": "/Users/kylekelley/.pyenv/versions/miniconda3-latest/lib/python3.11/site-packages/IPython/core/async_helpers.py",
            "file_path_short": "IPython/core/async_helpers.py",
            "function": "_pseudo_sync_runner",
            "group_id": "4ce5ff54-5309-4fe2-9856-1cee752f60c2",
            "is_application_code": false,
            "line_no": 120,
            "time": 5.432222
           }
          ],
          "class_name": "ZMQInteractiveShell",
          "file_path": "/Users/kylekelley/.pyenv/versions/miniconda3-latest/lib/python3.11/site-packages/IPython/core/interactiveshell.py",
          "file_path_short": "IPython/core/interactiveshell.py",
          "function": "_run_cell",
          "group_id": "4ce5ff54-5309-4fe2-9856-1cee752f60c2",
          "is_application_code": false,
          "line_no": 3084,
          "time": 5.432222
         }
        ],
        "class_name": "ZMQInteractiveShell",
        "file_path": "/Users/kylekelley/.pyenv/versions/miniconda3-latest/lib/python3.11/site-packages/IPython/core/interactiveshell.py",
        "file_path_short": "IPython/core/interactiveshell.py",
        "function": "run_cell",
        "is_application_code": false,
        "line_no": 3042,
        "time": 5.433263
       },
       "sample_count": 328,
       "start_time": 1724274535.77826,
       "target_description": "Profile at /Users/kylekelley/code/src/github.com/AlbertDeFusco/jupyterlab-execute-time/miniprofiler.py:31"
      }
     },
     "metadata": {},
     "output_type": "display_data"
    }
   ],
   "source": [
    "import gc\n",
    "\n",
    "# Force garbage collection to free up memory\n",
    "gc.collect()"
   ]
  }
 ],
 "metadata": {
  "kernelspec": {
   "display_name": "Python 3 (ipykernel)",
   "language": "python",
   "name": "python3"
  },
  "language_info": {
   "codemirror_mode": {
    "name": "ipython",
    "version": 3
   },
   "file_extension": ".py",
   "mimetype": "text/x-python",
   "name": "python",
   "nbconvert_exporter": "python",
   "pygments_lexer": "ipython3",
   "version": "3.11.8"
  }
 },
 "nbformat": 4,
 "nbformat_minor": 4
}
